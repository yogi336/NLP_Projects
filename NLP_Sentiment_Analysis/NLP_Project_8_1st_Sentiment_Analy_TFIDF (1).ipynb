{
  "nbformat": 4,
  "nbformat_minor": 0,
  "metadata": {
    "colab": {
      "name": "NLP_Project_8_1st_Sentiment_Analy_TFIDF",
      "provenance": [],
      "collapsed_sections": []
    },
    "kernelspec": {
      "name": "python3",
      "display_name": "Python 3"
    },
    "accelerator": "GPU"
  },
  "cells": [
    {
      "cell_type": "code",
      "metadata": {
        "id": "DIF5826ldo1R",
        "colab_type": "code",
        "colab": {}
      },
      "source": [
        "### NLP_Project_8_1st_Sentiment_Analy_TFIDF"
      ],
      "execution_count": null,
      "outputs": []
    },
    {
      "cell_type": "code",
      "metadata": {
        "id": "hFKOj8sr9UpZ",
        "colab_type": "code",
        "colab": {
          "base_uri": "https://localhost:8080/",
          "height": 857
        },
        "outputId": "cef8ffaa-ca42-45f0-9712-6a8908935037"
      },
      "source": [
        "import nltk\n",
        "nltk.download('stopwords')\n",
        "nltk.download(\"popular\")"
      ],
      "execution_count": 2,
      "outputs": [
        {
          "output_type": "stream",
          "text": [
            "[nltk_data] Downloading package stopwords to /root/nltk_data...\n",
            "[nltk_data]   Unzipping corpora/stopwords.zip.\n",
            "[nltk_data] Downloading collection 'popular'\n",
            "[nltk_data]    | \n",
            "[nltk_data]    | Downloading package cmudict to /root/nltk_data...\n",
            "[nltk_data]    |   Unzipping corpora/cmudict.zip.\n",
            "[nltk_data]    | Downloading package gazetteers to /root/nltk_data...\n",
            "[nltk_data]    |   Unzipping corpora/gazetteers.zip.\n",
            "[nltk_data]    | Downloading package genesis to /root/nltk_data...\n",
            "[nltk_data]    |   Unzipping corpora/genesis.zip.\n",
            "[nltk_data]    | Downloading package gutenberg to /root/nltk_data...\n",
            "[nltk_data]    |   Unzipping corpora/gutenberg.zip.\n",
            "[nltk_data]    | Downloading package inaugural to /root/nltk_data...\n",
            "[nltk_data]    |   Unzipping corpora/inaugural.zip.\n",
            "[nltk_data]    | Downloading package movie_reviews to\n",
            "[nltk_data]    |     /root/nltk_data...\n",
            "[nltk_data]    |   Unzipping corpora/movie_reviews.zip.\n",
            "[nltk_data]    | Downloading package names to /root/nltk_data...\n",
            "[nltk_data]    |   Unzipping corpora/names.zip.\n",
            "[nltk_data]    | Downloading package shakespeare to /root/nltk_data...\n",
            "[nltk_data]    |   Unzipping corpora/shakespeare.zip.\n",
            "[nltk_data]    | Downloading package stopwords to /root/nltk_data...\n",
            "[nltk_data]    |   Package stopwords is already up-to-date!\n",
            "[nltk_data]    | Downloading package treebank to /root/nltk_data...\n",
            "[nltk_data]    |   Unzipping corpora/treebank.zip.\n",
            "[nltk_data]    | Downloading package twitter_samples to\n",
            "[nltk_data]    |     /root/nltk_data...\n",
            "[nltk_data]    |   Unzipping corpora/twitter_samples.zip.\n",
            "[nltk_data]    | Downloading package omw to /root/nltk_data...\n",
            "[nltk_data]    |   Unzipping corpora/omw.zip.\n",
            "[nltk_data]    | Downloading package wordnet to /root/nltk_data...\n",
            "[nltk_data]    |   Unzipping corpora/wordnet.zip.\n",
            "[nltk_data]    | Downloading package wordnet_ic to /root/nltk_data...\n",
            "[nltk_data]    |   Unzipping corpora/wordnet_ic.zip.\n",
            "[nltk_data]    | Downloading package words to /root/nltk_data...\n",
            "[nltk_data]    |   Unzipping corpora/words.zip.\n",
            "[nltk_data]    | Downloading package maxent_ne_chunker to\n",
            "[nltk_data]    |     /root/nltk_data...\n",
            "[nltk_data]    |   Unzipping chunkers/maxent_ne_chunker.zip.\n",
            "[nltk_data]    | Downloading package punkt to /root/nltk_data...\n",
            "[nltk_data]    |   Unzipping tokenizers/punkt.zip.\n",
            "[nltk_data]    | Downloading package snowball_data to\n",
            "[nltk_data]    |     /root/nltk_data...\n",
            "[nltk_data]    | Downloading package averaged_perceptron_tagger to\n",
            "[nltk_data]    |     /root/nltk_data...\n",
            "[nltk_data]    |   Unzipping taggers/averaged_perceptron_tagger.zip.\n",
            "[nltk_data]    | \n",
            "[nltk_data]  Done downloading collection popular\n"
          ],
          "name": "stdout"
        },
        {
          "output_type": "execute_result",
          "data": {
            "text/plain": [
              "True"
            ]
          },
          "metadata": {
            "tags": []
          },
          "execution_count": 2
        }
      ]
    },
    {
      "cell_type": "code",
      "metadata": {
        "id": "IlNm9MJ-d9Ep",
        "colab_type": "code",
        "colab": {
          "base_uri": "https://localhost:8080/",
          "height": 71
        },
        "outputId": "17114e4f-9eaf-41d6-a75e-35548f6581f3"
      },
      "source": [
        "import numpy as np \n",
        "import pandas as pd\n",
        "import matplotlib\n",
        "import matplotlib.pyplot as plt\n",
        "import seaborn as sns\n",
        "import re\n",
        "#import os\n",
        "data = pd.read_csv(r\"/content/drive/My Drive/NLP/hotel_senti_train.csv\",encoding='latin-1')\n",
        "data_test = pd.read_csv(r\"/content/drive/My Drive/NLP/hotel_senti_test.csv\",encoding='latin-1')\n",
        "\n",
        "# 1: happy\n",
        "# 0: not happy"
      ],
      "execution_count": 3,
      "outputs": [
        {
          "output_type": "stream",
          "text": [
            "/usr/local/lib/python3.6/dist-packages/statsmodels/tools/_testing.py:19: FutureWarning: pandas.util.testing is deprecated. Use the functions in the public API at pandas.testing instead.\n",
            "  import pandas.util.testing as tm\n"
          ],
          "name": "stderr"
        }
      ]
    },
    {
      "cell_type": "code",
      "metadata": {
        "id": "HqWBIB4Smhmi",
        "colab_type": "code",
        "colab": {
          "base_uri": "https://localhost:8080/",
          "height": 203
        },
        "outputId": "b379f6ea-1736-41fb-8d0d-9910ae6053cb"
      },
      "source": [
        "data.head()"
      ],
      "execution_count": 4,
      "outputs": [
        {
          "output_type": "execute_result",
          "data": {
            "text/html": [
              "<div>\n",
              "<style scoped>\n",
              "    .dataframe tbody tr th:only-of-type {\n",
              "        vertical-align: middle;\n",
              "    }\n",
              "\n",
              "    .dataframe tbody tr th {\n",
              "        vertical-align: top;\n",
              "    }\n",
              "\n",
              "    .dataframe thead th {\n",
              "        text-align: right;\n",
              "    }\n",
              "</style>\n",
              "<table border=\"1\" class=\"dataframe\">\n",
              "  <thead>\n",
              "    <tr style=\"text-align: right;\">\n",
              "      <th></th>\n",
              "      <th>User_ID</th>\n",
              "      <th>Description</th>\n",
              "      <th>Browser_Used</th>\n",
              "      <th>Device_Used</th>\n",
              "      <th>Is_Response</th>\n",
              "    </tr>\n",
              "  </thead>\n",
              "  <tbody>\n",
              "    <tr>\n",
              "      <th>0</th>\n",
              "      <td>id10326</td>\n",
              "      <td>The room was kind of clean but had a VERY stro...</td>\n",
              "      <td>Edge</td>\n",
              "      <td>Mobile</td>\n",
              "      <td>not happy</td>\n",
              "    </tr>\n",
              "    <tr>\n",
              "      <th>1</th>\n",
              "      <td>id10327</td>\n",
              "      <td>I stayed at the Crown Plaza April -- - April -...</td>\n",
              "      <td>Internet Explorer</td>\n",
              "      <td>Mobile</td>\n",
              "      <td>not happy</td>\n",
              "    </tr>\n",
              "    <tr>\n",
              "      <th>2</th>\n",
              "      <td>id10328</td>\n",
              "      <td>I booked this hotel through Hotwire at the low...</td>\n",
              "      <td>Mozilla</td>\n",
              "      <td>Tablet</td>\n",
              "      <td>not happy</td>\n",
              "    </tr>\n",
              "    <tr>\n",
              "      <th>3</th>\n",
              "      <td>id10329</td>\n",
              "      <td>Stayed here with husband and sons on the way t...</td>\n",
              "      <td>InternetExplorer</td>\n",
              "      <td>Desktop</td>\n",
              "      <td>happy</td>\n",
              "    </tr>\n",
              "    <tr>\n",
              "      <th>4</th>\n",
              "      <td>id10330</td>\n",
              "      <td>My girlfriends and I stayed here to celebrate ...</td>\n",
              "      <td>Edge</td>\n",
              "      <td>Tablet</td>\n",
              "      <td>not happy</td>\n",
              "    </tr>\n",
              "  </tbody>\n",
              "</table>\n",
              "</div>"
            ],
            "text/plain": [
              "   User_ID  ... Is_Response\n",
              "0  id10326  ...   not happy\n",
              "1  id10327  ...   not happy\n",
              "2  id10328  ...   not happy\n",
              "3  id10329  ...       happy\n",
              "4  id10330  ...   not happy\n",
              "\n",
              "[5 rows x 5 columns]"
            ]
          },
          "metadata": {
            "tags": []
          },
          "execution_count": 4
        }
      ]
    },
    {
      "cell_type": "code",
      "metadata": {
        "id": "uo2AQxsJmkSo",
        "colab_type": "code",
        "colab": {
          "base_uri": "https://localhost:8080/",
          "height": 34
        },
        "outputId": "5d90466a-6ec1-4a95-fb3f-d00c34719d06"
      },
      "source": [
        "data.shape"
      ],
      "execution_count": 5,
      "outputs": [
        {
          "output_type": "execute_result",
          "data": {
            "text/plain": [
              "(38932, 5)"
            ]
          },
          "metadata": {
            "tags": []
          },
          "execution_count": 5
        }
      ]
    },
    {
      "cell_type": "markdown",
      "metadata": {
        "id": "xlzzez_O06Hc",
        "colab_type": "text"
      },
      "source": [
        "**Exploratory Data Analysis (EDA)**"
      ]
    },
    {
      "cell_type": "code",
      "metadata": {
        "id": "M-D5oSRn2Jqw",
        "colab_type": "code",
        "colab": {}
      },
      "source": [
        "data_eda = data.copy()"
      ],
      "execution_count": 6,
      "outputs": []
    },
    {
      "cell_type": "code",
      "metadata": {
        "id": "2hxv7V0Fujm1",
        "colab_type": "code",
        "colab": {}
      },
      "source": [
        "data_eda['Is_Response'] = data_eda['Is_Response'].map({'happy':1, 'not happy':0})"
      ],
      "execution_count": 7,
      "outputs": []
    },
    {
      "cell_type": "code",
      "metadata": {
        "id": "AotsDReq0cwE",
        "colab_type": "code",
        "colab": {
          "base_uri": "https://localhost:8080/",
          "height": 203
        },
        "outputId": "1b56df7d-90a3-4a1e-c55c-4336bf2e97e3"
      },
      "source": [
        "data_eda.head()"
      ],
      "execution_count": 8,
      "outputs": [
        {
          "output_type": "execute_result",
          "data": {
            "text/html": [
              "<div>\n",
              "<style scoped>\n",
              "    .dataframe tbody tr th:only-of-type {\n",
              "        vertical-align: middle;\n",
              "    }\n",
              "\n",
              "    .dataframe tbody tr th {\n",
              "        vertical-align: top;\n",
              "    }\n",
              "\n",
              "    .dataframe thead th {\n",
              "        text-align: right;\n",
              "    }\n",
              "</style>\n",
              "<table border=\"1\" class=\"dataframe\">\n",
              "  <thead>\n",
              "    <tr style=\"text-align: right;\">\n",
              "      <th></th>\n",
              "      <th>User_ID</th>\n",
              "      <th>Description</th>\n",
              "      <th>Browser_Used</th>\n",
              "      <th>Device_Used</th>\n",
              "      <th>Is_Response</th>\n",
              "    </tr>\n",
              "  </thead>\n",
              "  <tbody>\n",
              "    <tr>\n",
              "      <th>0</th>\n",
              "      <td>id10326</td>\n",
              "      <td>The room was kind of clean but had a VERY stro...</td>\n",
              "      <td>Edge</td>\n",
              "      <td>Mobile</td>\n",
              "      <td>0</td>\n",
              "    </tr>\n",
              "    <tr>\n",
              "      <th>1</th>\n",
              "      <td>id10327</td>\n",
              "      <td>I stayed at the Crown Plaza April -- - April -...</td>\n",
              "      <td>Internet Explorer</td>\n",
              "      <td>Mobile</td>\n",
              "      <td>0</td>\n",
              "    </tr>\n",
              "    <tr>\n",
              "      <th>2</th>\n",
              "      <td>id10328</td>\n",
              "      <td>I booked this hotel through Hotwire at the low...</td>\n",
              "      <td>Mozilla</td>\n",
              "      <td>Tablet</td>\n",
              "      <td>0</td>\n",
              "    </tr>\n",
              "    <tr>\n",
              "      <th>3</th>\n",
              "      <td>id10329</td>\n",
              "      <td>Stayed here with husband and sons on the way t...</td>\n",
              "      <td>InternetExplorer</td>\n",
              "      <td>Desktop</td>\n",
              "      <td>1</td>\n",
              "    </tr>\n",
              "    <tr>\n",
              "      <th>4</th>\n",
              "      <td>id10330</td>\n",
              "      <td>My girlfriends and I stayed here to celebrate ...</td>\n",
              "      <td>Edge</td>\n",
              "      <td>Tablet</td>\n",
              "      <td>0</td>\n",
              "    </tr>\n",
              "  </tbody>\n",
              "</table>\n",
              "</div>"
            ],
            "text/plain": [
              "   User_ID  ... Is_Response\n",
              "0  id10326  ...           0\n",
              "1  id10327  ...           0\n",
              "2  id10328  ...           0\n",
              "3  id10329  ...           1\n",
              "4  id10330  ...           0\n",
              "\n",
              "[5 rows x 5 columns]"
            ]
          },
          "metadata": {
            "tags": []
          },
          "execution_count": 8
        }
      ]
    },
    {
      "cell_type": "code",
      "metadata": {
        "id": "Toy3g0rG0elN",
        "colab_type": "code",
        "colab": {
          "base_uri": "https://localhost:8080/",
          "height": 223
        },
        "outputId": "493cf3be-3ed9-48ff-ab78-3f34166faa48"
      },
      "source": [
        "data_eda.info()"
      ],
      "execution_count": 9,
      "outputs": [
        {
          "output_type": "stream",
          "text": [
            "<class 'pandas.core.frame.DataFrame'>\n",
            "RangeIndex: 38932 entries, 0 to 38931\n",
            "Data columns (total 5 columns):\n",
            " #   Column        Non-Null Count  Dtype \n",
            "---  ------        --------------  ----- \n",
            " 0   User_ID       38932 non-null  object\n",
            " 1   Description   38932 non-null  object\n",
            " 2   Browser_Used  38932 non-null  object\n",
            " 3   Device_Used   38932 non-null  object\n",
            " 4   Is_Response   38932 non-null  int64 \n",
            "dtypes: int64(1), object(4)\n",
            "memory usage: 1.5+ MB\n"
          ],
          "name": "stdout"
        }
      ]
    },
    {
      "cell_type": "code",
      "metadata": {
        "id": "EchaWcoD0_8f",
        "colab_type": "code",
        "colab": {
          "base_uri": "https://localhost:8080/",
          "height": 120
        },
        "outputId": "77677167-c57e-4beb-dec6-ea78915a1182"
      },
      "source": [
        "pd.isnull(data_eda).sum()"
      ],
      "execution_count": 10,
      "outputs": [
        {
          "output_type": "execute_result",
          "data": {
            "text/plain": [
              "User_ID         0\n",
              "Description     0\n",
              "Browser_Used    0\n",
              "Device_Used     0\n",
              "Is_Response     0\n",
              "dtype: int64"
            ]
          },
          "metadata": {
            "tags": []
          },
          "execution_count": 10
        }
      ]
    },
    {
      "cell_type": "code",
      "metadata": {
        "id": "X51nHB5G1D6m",
        "colab_type": "code",
        "colab": {
          "base_uri": "https://localhost:8080/",
          "height": 432
        },
        "outputId": "edc2fe06-e6cd-442a-c9b3-e38040f47198"
      },
      "source": [
        "data_eda.groupby('Is_Response').describe()"
      ],
      "execution_count": 11,
      "outputs": [
        {
          "output_type": "execute_result",
          "data": {
            "text/html": [
              "<div>\n",
              "<style scoped>\n",
              "    .dataframe tbody tr th:only-of-type {\n",
              "        vertical-align: middle;\n",
              "    }\n",
              "\n",
              "    .dataframe tbody tr th {\n",
              "        vertical-align: top;\n",
              "    }\n",
              "\n",
              "    .dataframe thead tr th {\n",
              "        text-align: left;\n",
              "    }\n",
              "\n",
              "    .dataframe thead tr:last-of-type th {\n",
              "        text-align: right;\n",
              "    }\n",
              "</style>\n",
              "<table border=\"1\" class=\"dataframe\">\n",
              "  <thead>\n",
              "    <tr>\n",
              "      <th></th>\n",
              "      <th colspan=\"4\" halign=\"left\">User_ID</th>\n",
              "      <th colspan=\"4\" halign=\"left\">Description</th>\n",
              "      <th colspan=\"4\" halign=\"left\">Browser_Used</th>\n",
              "      <th colspan=\"4\" halign=\"left\">Device_Used</th>\n",
              "    </tr>\n",
              "    <tr>\n",
              "      <th></th>\n",
              "      <th>count</th>\n",
              "      <th>unique</th>\n",
              "      <th>top</th>\n",
              "      <th>freq</th>\n",
              "      <th>count</th>\n",
              "      <th>unique</th>\n",
              "      <th>top</th>\n",
              "      <th>freq</th>\n",
              "      <th>count</th>\n",
              "      <th>unique</th>\n",
              "      <th>top</th>\n",
              "      <th>freq</th>\n",
              "      <th>count</th>\n",
              "      <th>unique</th>\n",
              "      <th>top</th>\n",
              "      <th>freq</th>\n",
              "    </tr>\n",
              "    <tr>\n",
              "      <th>Is_Response</th>\n",
              "      <th></th>\n",
              "      <th></th>\n",
              "      <th></th>\n",
              "      <th></th>\n",
              "      <th></th>\n",
              "      <th></th>\n",
              "      <th></th>\n",
              "      <th></th>\n",
              "      <th></th>\n",
              "      <th></th>\n",
              "      <th></th>\n",
              "      <th></th>\n",
              "      <th></th>\n",
              "      <th></th>\n",
              "      <th></th>\n",
              "      <th></th>\n",
              "    </tr>\n",
              "  </thead>\n",
              "  <tbody>\n",
              "    <tr>\n",
              "      <th>0</th>\n",
              "      <td>12411</td>\n",
              "      <td>12411</td>\n",
              "      <td>id19554</td>\n",
              "      <td>1</td>\n",
              "      <td>12411</td>\n",
              "      <td>12411</td>\n",
              "      <td>It's bad when you get one dirty room. Three? T...</td>\n",
              "      <td>1</td>\n",
              "      <td>12411</td>\n",
              "      <td>11</td>\n",
              "      <td>Edge</td>\n",
              "      <td>3916</td>\n",
              "      <td>12411</td>\n",
              "      <td>3</td>\n",
              "      <td>Desktop</td>\n",
              "      <td>4431</td>\n",
              "    </tr>\n",
              "    <tr>\n",
              "      <th>1</th>\n",
              "      <td>26521</td>\n",
              "      <td>26521</td>\n",
              "      <td>id33497</td>\n",
              "      <td>1</td>\n",
              "      <td>26521</td>\n",
              "      <td>26521</td>\n",
              "      <td>We got our room through expedia so it was the ...</td>\n",
              "      <td>1</td>\n",
              "      <td>26521</td>\n",
              "      <td>11</td>\n",
              "      <td>Google Chrome</td>\n",
              "      <td>4035</td>\n",
              "      <td>26521</td>\n",
              "      <td>3</td>\n",
              "      <td>Mobile</td>\n",
              "      <td>10602</td>\n",
              "    </tr>\n",
              "  </tbody>\n",
              "</table>\n",
              "</div>"
            ],
            "text/plain": [
              "            User_ID                       ... Device_Used                       \n",
              "              count unique      top freq  ...       count unique      top   freq\n",
              "Is_Response                               ...                                   \n",
              "0             12411  12411  id19554    1  ...       12411      3  Desktop   4431\n",
              "1             26521  26521  id33497    1  ...       26521      3   Mobile  10602\n",
              "\n",
              "[2 rows x 16 columns]"
            ]
          },
          "metadata": {
            "tags": []
          },
          "execution_count": 11
        }
      ]
    },
    {
      "cell_type": "markdown",
      "metadata": {
        "id": "Cy2717S91sPe",
        "colab_type": "text"
      },
      "source": [
        "Obs:- We have 12411 'not happy' feedbacks and 26521 'happy' feedbacks"
      ]
    },
    {
      "cell_type": "code",
      "metadata": {
        "id": "8eLJI4Uy1eAD",
        "colab_type": "code",
        "colab": {
          "base_uri": "https://localhost:8080/",
          "height": 203
        },
        "outputId": "2b097d02-2e04-425d-f3d3-c4dc11d4426a"
      },
      "source": [
        "data_eda['Description_len'] = data_eda.Description.apply(len)\n",
        "data_eda.head()"
      ],
      "execution_count": 12,
      "outputs": [
        {
          "output_type": "execute_result",
          "data": {
            "text/html": [
              "<div>\n",
              "<style scoped>\n",
              "    .dataframe tbody tr th:only-of-type {\n",
              "        vertical-align: middle;\n",
              "    }\n",
              "\n",
              "    .dataframe tbody tr th {\n",
              "        vertical-align: top;\n",
              "    }\n",
              "\n",
              "    .dataframe thead th {\n",
              "        text-align: right;\n",
              "    }\n",
              "</style>\n",
              "<table border=\"1\" class=\"dataframe\">\n",
              "  <thead>\n",
              "    <tr style=\"text-align: right;\">\n",
              "      <th></th>\n",
              "      <th>User_ID</th>\n",
              "      <th>Description</th>\n",
              "      <th>Browser_Used</th>\n",
              "      <th>Device_Used</th>\n",
              "      <th>Is_Response</th>\n",
              "      <th>Description_len</th>\n",
              "    </tr>\n",
              "  </thead>\n",
              "  <tbody>\n",
              "    <tr>\n",
              "      <th>0</th>\n",
              "      <td>id10326</td>\n",
              "      <td>The room was kind of clean but had a VERY stro...</td>\n",
              "      <td>Edge</td>\n",
              "      <td>Mobile</td>\n",
              "      <td>0</td>\n",
              "      <td>248</td>\n",
              "    </tr>\n",
              "    <tr>\n",
              "      <th>1</th>\n",
              "      <td>id10327</td>\n",
              "      <td>I stayed at the Crown Plaza April -- - April -...</td>\n",
              "      <td>Internet Explorer</td>\n",
              "      <td>Mobile</td>\n",
              "      <td>0</td>\n",
              "      <td>1077</td>\n",
              "    </tr>\n",
              "    <tr>\n",
              "      <th>2</th>\n",
              "      <td>id10328</td>\n",
              "      <td>I booked this hotel through Hotwire at the low...</td>\n",
              "      <td>Mozilla</td>\n",
              "      <td>Tablet</td>\n",
              "      <td>0</td>\n",
              "      <td>1327</td>\n",
              "    </tr>\n",
              "    <tr>\n",
              "      <th>3</th>\n",
              "      <td>id10329</td>\n",
              "      <td>Stayed here with husband and sons on the way t...</td>\n",
              "      <td>InternetExplorer</td>\n",
              "      <td>Desktop</td>\n",
              "      <td>1</td>\n",
              "      <td>502</td>\n",
              "    </tr>\n",
              "    <tr>\n",
              "      <th>4</th>\n",
              "      <td>id10330</td>\n",
              "      <td>My girlfriends and I stayed here to celebrate ...</td>\n",
              "      <td>Edge</td>\n",
              "      <td>Tablet</td>\n",
              "      <td>0</td>\n",
              "      <td>1613</td>\n",
              "    </tr>\n",
              "  </tbody>\n",
              "</table>\n",
              "</div>"
            ],
            "text/plain": [
              "   User_ID  ... Description_len\n",
              "0  id10326  ...             248\n",
              "1  id10327  ...            1077\n",
              "2  id10328  ...            1327\n",
              "3  id10329  ...             502\n",
              "4  id10330  ...            1613\n",
              "\n",
              "[5 rows x 6 columns]"
            ]
          },
          "metadata": {
            "tags": []
          },
          "execution_count": 12
        }
      ]
    },
    {
      "cell_type": "code",
      "metadata": {
        "id": "NQ3fj6ix34gB",
        "colab_type": "code",
        "colab": {}
      },
      "source": [
        "data_eda['Is_Response'] = data_eda['Is_Response'].map({1:'happy', 0:'not happy'})"
      ],
      "execution_count": 13,
      "outputs": []
    },
    {
      "cell_type": "code",
      "metadata": {
        "id": "AC-eGqtY5C-W",
        "colab_type": "code",
        "colab": {
          "base_uri": "https://localhost:8080/",
          "height": 203
        },
        "outputId": "577102af-7529-442d-ca6d-f8e7ec38d868"
      },
      "source": [
        "data_eda.head()"
      ],
      "execution_count": 14,
      "outputs": [
        {
          "output_type": "execute_result",
          "data": {
            "text/html": [
              "<div>\n",
              "<style scoped>\n",
              "    .dataframe tbody tr th:only-of-type {\n",
              "        vertical-align: middle;\n",
              "    }\n",
              "\n",
              "    .dataframe tbody tr th {\n",
              "        vertical-align: top;\n",
              "    }\n",
              "\n",
              "    .dataframe thead th {\n",
              "        text-align: right;\n",
              "    }\n",
              "</style>\n",
              "<table border=\"1\" class=\"dataframe\">\n",
              "  <thead>\n",
              "    <tr style=\"text-align: right;\">\n",
              "      <th></th>\n",
              "      <th>User_ID</th>\n",
              "      <th>Description</th>\n",
              "      <th>Browser_Used</th>\n",
              "      <th>Device_Used</th>\n",
              "      <th>Is_Response</th>\n",
              "      <th>Description_len</th>\n",
              "    </tr>\n",
              "  </thead>\n",
              "  <tbody>\n",
              "    <tr>\n",
              "      <th>0</th>\n",
              "      <td>id10326</td>\n",
              "      <td>The room was kind of clean but had a VERY stro...</td>\n",
              "      <td>Edge</td>\n",
              "      <td>Mobile</td>\n",
              "      <td>not happy</td>\n",
              "      <td>248</td>\n",
              "    </tr>\n",
              "    <tr>\n",
              "      <th>1</th>\n",
              "      <td>id10327</td>\n",
              "      <td>I stayed at the Crown Plaza April -- - April -...</td>\n",
              "      <td>Internet Explorer</td>\n",
              "      <td>Mobile</td>\n",
              "      <td>not happy</td>\n",
              "      <td>1077</td>\n",
              "    </tr>\n",
              "    <tr>\n",
              "      <th>2</th>\n",
              "      <td>id10328</td>\n",
              "      <td>I booked this hotel through Hotwire at the low...</td>\n",
              "      <td>Mozilla</td>\n",
              "      <td>Tablet</td>\n",
              "      <td>not happy</td>\n",
              "      <td>1327</td>\n",
              "    </tr>\n",
              "    <tr>\n",
              "      <th>3</th>\n",
              "      <td>id10329</td>\n",
              "      <td>Stayed here with husband and sons on the way t...</td>\n",
              "      <td>InternetExplorer</td>\n",
              "      <td>Desktop</td>\n",
              "      <td>happy</td>\n",
              "      <td>502</td>\n",
              "    </tr>\n",
              "    <tr>\n",
              "      <th>4</th>\n",
              "      <td>id10330</td>\n",
              "      <td>My girlfriends and I stayed here to celebrate ...</td>\n",
              "      <td>Edge</td>\n",
              "      <td>Tablet</td>\n",
              "      <td>not happy</td>\n",
              "      <td>1613</td>\n",
              "    </tr>\n",
              "  </tbody>\n",
              "</table>\n",
              "</div>"
            ],
            "text/plain": [
              "   User_ID  ... Description_len\n",
              "0  id10326  ...             248\n",
              "1  id10327  ...            1077\n",
              "2  id10328  ...            1327\n",
              "3  id10329  ...             502\n",
              "4  id10330  ...            1613\n",
              "\n",
              "[5 rows x 6 columns]"
            ]
          },
          "metadata": {
            "tags": []
          },
          "execution_count": 14
        }
      ]
    },
    {
      "cell_type": "code",
      "metadata": {
        "id": "ppxVdIUCI01K",
        "colab_type": "code",
        "colab": {
          "base_uri": "https://localhost:8080/",
          "height": 51
        },
        "outputId": "0c077c23-f0d8-44e9-bb0b-8b572c8aa242"
      },
      "source": [
        "#Ratio\n",
        "print ('not happy ratio = ', round(len(data_eda[data_eda['Is_Response']=='not happy']) / len(data_eda.Is_Response),2)*100,'%')\n",
        "print ('happy ratio  = ', round(len(data_eda[data_eda['Is_Response']=='happy']) / len(data_eda.Is_Response),2)*100,'%')"
      ],
      "execution_count": 15,
      "outputs": [
        {
          "output_type": "stream",
          "text": [
            "not happy ratio =  32.0 %\n",
            "happy ratio  =  68.0 %\n"
          ],
          "name": "stdout"
        }
      ]
    },
    {
      "cell_type": "code",
      "metadata": {
        "id": "TPVz4SLQJrPE",
        "colab_type": "code",
        "colab": {}
      },
      "source": [
        "#Label coding 0 and 1\n",
        "data_eda['Is_Response'].replace({'not happy':0,'happy':1},inplace=True)"
      ],
      "execution_count": 16,
      "outputs": []
    },
    {
      "cell_type": "code",
      "metadata": {
        "id": "n4DMHsgm2n86",
        "colab_type": "code",
        "colab": {
          "base_uri": "https://localhost:8080/",
          "height": 603
        },
        "outputId": "cfb4b00a-c720-438c-cc11-3c49608ae5ca"
      },
      "source": [
        "plt.figure(figsize=(12, 8))\n",
        "\n",
        "data_eda[data_eda.Is_Response=='happy'].Description_len.plot(bins=35, kind='hist', color='blue', label='happy msg', alpha=0.6)\n",
        "data_eda[data_eda.Is_Response=='not happy'].Description_len.plot(kind='hist', color='red', label='not happy msg', alpha=0.6)\n",
        "plt.legend()\n",
        "plt.xlabel(\"Feedback Length\")"
      ],
      "execution_count": 17,
      "outputs": [
        {
          "output_type": "stream",
          "text": [
            "/usr/local/lib/python3.6/dist-packages/pandas/core/ops/array_ops.py:253: FutureWarning: elementwise comparison failed; returning scalar instead, but in the future will perform elementwise comparison\n",
            "  res_values = method(rvalues)\n",
            "/usr/local/lib/python3.6/dist-packages/pandas/core/ops/array_ops.py:253: FutureWarning: elementwise comparison failed; returning scalar instead, but in the future will perform elementwise comparison\n",
            "  res_values = method(rvalues)\n"
          ],
          "name": "stderr"
        },
        {
          "output_type": "execute_result",
          "data": {
            "text/plain": [
              "Text(0.5, 0, 'Feedback Length')"
            ]
          },
          "metadata": {
            "tags": []
          },
          "execution_count": 17
        },
        {
          "output_type": "display_data",
          "data": {
            "image/png": "[encoded data removed]",
            "text/plain": [
              "<Figure size 864x576 with 1 Axes>"
            ]
          },
          "metadata": {
            "tags": [],
            "needs_background": "light"
          }
        }
      ]
    },
    {
      "cell_type": "markdown",
      "metadata": {
        "id": "gl25KpWj79jt",
        "colab_type": "text"
      },
      "source": [
        "Obs:- Distribution are quite equal of lebal(Is_Response) column(1:happy, 0:not happy)"
      ]
    },
    {
      "cell_type": "markdown",
      "metadata": {
        "id": "8-f-4KFg8PP7",
        "colab_type": "text"
      },
      "source": [
        "**Split Data in IV & DV**"
      ]
    },
    {
      "cell_type": "code",
      "metadata": {
        "id": "7d8yUDIV3iu4",
        "colab_type": "code",
        "colab": {}
      },
      "source": [
        "filter_data = data.copy()\n",
        "filter_data['Is_Response'] = filter_data['Is_Response'].map({'happy':1, 'not happy':0})\n",
        "X_message=filter_data.iloc[:,1]\n",
        "Y_class=filter_data.iloc[:,4]"
      ],
      "execution_count": 18,
      "outputs": []
    },
    {
      "cell_type": "markdown",
      "metadata": {
        "id": "K824LMcQ9IEy",
        "colab_type": "text"
      },
      "source": [
        "**Data cleaning and preprocessing**"
      ]
    },
    {
      "cell_type": "code",
      "metadata": {
        "id": "UroU_HL-SOpR",
        "colab_type": "code",
        "colab": {}
      },
      "source": [
        "# make a dictionary of Contractions\n",
        "\n",
        "contraction_mapping={\n",
        "\"ain't\": \"is not\",\n",
        "\"aren't\": \"are not\",\n",
        "\"can't\": \"cannot\",\n",
        "\"can't've\": \"cannot have\",\n",
        "\"'cause\": \"because\",\n",
        "\"could've\": \"could have\",\n",
        "\"couldn't\": \"could not\",\n",
        "\"couldn't've\": \"could not have\",\n",
        "\"didn't\": \"did not\",\n",
        "\"doesn't\": \"does not\",\n",
        "\"don't\": \"do not\",\n",
        "\"hadn't\": \"had not\",\n",
        "\"hadn't've\": \"had not have\",\n",
        "\"hasn't\": \"has not\",\n",
        "\"haven't\": \"have not\",\n",
        "\"he'd\": \"he would\",\n",
        "\"he'd've\": \"he would have\",\n",
        "\"he'll\": \"he will\",\n",
        "\"he'll've\": \"he he will have\",\n",
        "\"he's\": \"he is\",\n",
        "\"how'd\": \"how did\",\n",
        "\"how'd'y\": \"how do you\",\n",
        "\"how'll\": \"how will\",\n",
        "\"how's\": \"how is\",\n",
        "\"I'd\": \"I would\",\n",
        "\"I'd've\": \"I would have\",\n",
        "\"I'll\": \"I will\",\n",
        "\"I'll've\": \"I will have\",\n",
        "\"I'm\": \"I am\",\n",
        "\"I've\": \"I have\",\n",
        "\"i'd\": \"i would\",\n",
        "\"i'd've\": \"i would have\",\n",
        "\"i'll\": \"i will\",\n",
        "\"i'll've\": \"i will have\",\n",
        "\"i'm\": \"i am\",\n",
        "\"i've\": \"i have\",\n",
        "\"isn't\": \"is not\",\n",
        "\"it'd\": \"it would\",\n",
        "\"it'd've\": \"it would have\",\n",
        "\"it'll\": \"it will\",\n",
        "\"it'll've\": \"it will have\",\n",
        "\"it's\": \"it is\",\n",
        "\"let's\": \"let us\",\n",
        "\"ma'am\": \"madam\",\n",
        "\"mayn't\": \"may not\",\n",
        "\"might've\": \"might have\",\n",
        "\"mightn't\": \"might not\",\n",
        "\"mightn't've\": \"might not have\",\n",
        "\"must've\": \"must have\",\n",
        "\"mustn't\": \"must not\",\n",
        "\"mustn't've\": \"must not have\",\n",
        "\"needn't\": \"need not\",\n",
        "\"needn't've\": \"need not have\",\n",
        "\"o'clock\": \"of the clock\",\n",
        "\"oughtn't\": \"ought not\",\n",
        "\"oughtn't've\": \"ought not have\",\n",
        "\"shan't\": \"shall not\",\n",
        "\"sha'n't\": \"shall not\",\n",
        "\"shan't've\": \"shall not have\",\n",
        "\"she'd\": \"she would\",\n",
        "\"she'd've\": \"she would have\",\n",
        "\"she'll\": \"she will\",\n",
        "\"she'll've\": \"she will have\",\n",
        "\"she's\": \"she is\",\n",
        "\"should've\": \"should have\",\n",
        "\"shouldn't\": \"should not\",\n",
        "\"shouldn't've\": \"should not have\",\n",
        "\"so've\": \"so have\",\n",
        "\"so's\": \"so as\",\n",
        "\"that'd\": \"that would\",\n",
        "\"that'd've\": \"that would have\",\n",
        "\"that's\": \"that is\",\n",
        "\"there'd\": \"there would\",\n",
        "\"there'd've\": \"there would have\",\n",
        "\"there's\": \"there is\",\n",
        "\"they'd\": \"they would\",\n",
        "\"they'd've\": \"they would have\",\n",
        "\"they'll\": \"they will\",\n",
        "\"they'll've\": \"they will have\",\n",
        "\"they're\": \"they are\",\n",
        "\"they've\": \"they have\",\n",
        "\"to've\": \"to have\",\n",
        "\"wasn't\": \"was not\",\n",
        "\"we'd\": \"we would\",\n",
        "\"we'd've\": \"we would have\",\n",
        "\"we'll\": \"we will\",\n",
        "\"we'll've\": \"we will have\",\n",
        "\"we're\": \"we are\",\n",
        "\"we've\": \"we have\",\n",
        "\"weren't\": \"were not\",\n",
        "\"what'll\": \"what will\",\n",
        "\"what'll've\": \"what will have\",\n",
        "\"what're\": \"what are\",\n",
        "\"what's\": \"what is\",\n",
        "\"what've\": \"what have\",\n",
        "\"when's\": \"when is\",\n",
        "\"when've\": \"when have\",\n",
        "\"where'd\": \"where did\",\n",
        "\"where's\": \"where is\",\n",
        "\"where've\": \"where have\",\n",
        "\"who'll\": \"who will\",\n",
        "\"who'll've\": \"who will have\",\n",
        "\"who's\": \"who is\",\n",
        "\"who've\": \"who have\",\n",
        "\"why's\": \"why is\",\n",
        "\"why've\": \"why have\",\n",
        "\"will've\": \"will have\",\n",
        "\"won't\": \"will not\",\n",
        "\"won't've\": \"will not have\",\n",
        "\"would've\": \"would have\",\n",
        "\"wouldn't\": \"would not\",\n",
        "\"wouldn't've\": \"would not have\",\n",
        "\"y'all\": \"you all\",\n",
        "\"y'all'd\": \"you all would\",\n",
        "\"y'all'd've\": \"you all would have\",\n",
        "\"y'all're\": \"you all are\",\n",
        "\"y'all've\": \"you all have\",\n",
        "\"you'd\": \"you would\",\n",
        "\"you'd've\": \"you would have\",\n",
        "\"you'll\": \"you will\",\n",
        "\"you'll've\": \"you will have\",\n",
        "\"you're\": \"you are\",\n",
        "\"you've\": \"you have\"\n",
        "}"
      ],
      "execution_count": 19,
      "outputs": []
    },
    {
      "cell_type": "markdown",
      "metadata": {
        "id": "EnNIj782GVs2",
        "colab_type": "text"
      },
      "source": [
        "**Cleaning the Text**"
      ]
    },
    {
      "cell_type": "code",
      "metadata": {
        "id": "nqaBxdSzST7m",
        "colab_type": "code",
        "colab": {}
      },
      "source": [
        "# function to pre-process the text\n",
        "def cleaner(text):\n",
        "    newString=re.sub(r\"@[a-zA-Z0-9]+\",\"\",text)         # removing user mentions\n",
        "    newString=re.sub(\"#\",\"\",newString) \n",
        "    newString=' '.join([contraction_mapping[t] if t in contraction_mapping else t for t in newString.split(\" \")])\n",
        "    x=re.sub(r'http\\S+','',newString)                  # remove URL's\n",
        "    newString=re.sub(r\"'s\\b\",\" is\",newString)         # removing 's\n",
        "    x=re.sub(r'[%#@$&!+|ð¦±]','',newString)          # Remove spacial char\n",
        "    x=re.sub(r'[.,:;]','',newString)                   # remove punctuations mark\n",
        "    newString=re.sub(\"[^a-zA-Z]\",\" \",newString)         # fetching out only char\n",
        "    #lower_case=letters_only.lower()                     # converting everything in lowercase\n",
        "    words=newString.split()                            # split based on space to remove multiple spaces\n",
        "    return (\" \".join(words)).strip()"
      ],
      "execution_count": 20,
      "outputs": []
    },
    {
      "cell_type": "code",
      "metadata": {
        "id": "yVw8cuhESc5n",
        "colab_type": "code",
        "colab": {}
      },
      "source": [
        "corpus = []\n",
        "for i in range(0, len(X_message)):\n",
        "  cleaned_text = cleaner(X_message[i])\n",
        "  corpus.append(cleaned_text)"
      ],
      "execution_count": 21,
      "outputs": []
    },
    {
      "cell_type": "code",
      "metadata": {
        "id": "y2Nrxe45Sq0y",
        "colab_type": "code",
        "colab": {
          "base_uri": "https://localhost:8080/",
          "height": 52
        },
        "outputId": "91f64cf1-4b96-4665-976e-90ad47a67690"
      },
      "source": [
        "corpus[0]"
      ],
      "execution_count": 22,
      "outputs": [
        {
          "output_type": "execute_result",
          "data": {
            "application/vnd.google.colaboratory.intrinsic+json": {
              "type": "string"
            },
            "text/plain": [
              "'The room was kind of clean but had a VERY strong smell of dogs Generally below average but ok for a overnight stay if you are not too fussy Would consider staying again if the price was right Breakfast was free and just about better than nothing'"
            ]
          },
          "metadata": {
            "tags": []
          },
          "execution_count": 22
        }
      ]
    },
    {
      "cell_type": "markdown",
      "metadata": {
        "id": "Uo18KuQhGcz1",
        "colab_type": "text"
      },
      "source": [
        "**Text Normalization (Stemming /Lammatization)**"
      ]
    },
    {
      "cell_type": "code",
      "metadata": {
        "id": "-emPYXIV9ABL",
        "colab_type": "code",
        "colab": {}
      },
      "source": [
        "import re\n",
        "from nltk.corpus import stopwords\n",
        "from nltk.stem.porter import PorterStemmer\n",
        "ps = PorterStemmer()\n",
        "corpus_final = []\n",
        "for i in range(0, len(corpus)):\n",
        "    review = re.sub('[^a-zA-Z]', ' ', corpus[i])\n",
        "    review = review.lower()\n",
        "    review = review.split()\n",
        "    review = [ps.stem(word) for word in review if not word in stopwords.words('english')]\n",
        "    review = ' '.join(review)\n",
        "    corpus_final.append(review)"
      ],
      "execution_count": 23,
      "outputs": []
    },
    {
      "cell_type": "code",
      "metadata": {
        "id": "5u7ImQVqNNXy",
        "colab_type": "code",
        "colab": {
          "base_uri": "https://localhost:8080/",
          "height": 69
        },
        "outputId": "3e41e49e-b76f-462c-a088-4f856a495ffd"
      },
      "source": [
        "corpus_final[3]"
      ],
      "execution_count": 25,
      "outputs": [
        {
          "output_type": "execute_result",
          "data": {
            "application/vnd.google.colaboratory.intrinsic+json": {
              "type": "string"
            },
            "text/plain": [
              "'stay husband son way alaska cruis love hotel great experi ask room north tower face north west best view high floor stun view needl citi even cruis ship order room servic dinner could enjoy perfect view room servic dinner delici perfect spot walk everywher enjoy citi almost forgot heavenli bed heavenli'"
            ]
          },
          "metadata": {
            "tags": []
          },
          "execution_count": 25
        }
      ]
    },
    {
      "cell_type": "markdown",
      "metadata": {
        "id": "0cp5PNqOhAIK",
        "colab_type": "text"
      },
      "source": [
        "**Prepare Test Dataset**"
      ]
    },
    {
      "cell_type": "code",
      "metadata": {
        "id": "xlbFnEglEeuK",
        "colab_type": "code",
        "colab": {}
      },
      "source": [
        "X_message_test=data_test.iloc[:,1]"
      ],
      "execution_count": 26,
      "outputs": []
    },
    {
      "cell_type": "code",
      "metadata": {
        "id": "uT1lSOWTDlSc",
        "colab_type": "code",
        "colab": {}
      },
      "source": [
        "corpus_test = []\n",
        "for i in range(0, len(X_message_test)):\n",
        "  cleaned_text_test = cleaner(X_message_test[i])\n",
        "  corpus_test.append(cleaned_text_test)"
      ],
      "execution_count": 27,
      "outputs": []
    },
    {
      "cell_type": "code",
      "metadata": {
        "id": "NF9RqpbhEpFJ",
        "colab_type": "code",
        "colab": {
          "base_uri": "https://localhost:8080/",
          "height": 120
        },
        "outputId": "e1a14c7d-3927-4ecc-92af-5c42d2c4e7eb"
      },
      "source": [
        "corpus_test[0]"
      ],
      "execution_count": 28,
      "outputs": [
        {
          "output_type": "execute_result",
          "data": {
            "application/vnd.google.colaboratory.intrinsic+json": {
              "type": "string"
            },
            "text/plain": [
              "'Looking for a motel in close proximity to TV taping of a Dr Phil show we chose the Dunes on Sunset Blvd in West Hollywood Although the property displayed the AAA emblem it certainly left a lot to be desired There were chips scrapes on the bottom of the door frame in the bathroom and the lotion containers were half full apparently not replaced by housekeeping We needed an early wakeup call but could not use the clock radio alarm as there was not a radio in the room There was no TV channel listing on the remote or on the TV menu making viewing a chore The TV remote had to be returned when checking out This place served its purpose but not a place to revisit'"
            ]
          },
          "metadata": {
            "tags": []
          },
          "execution_count": 28
        }
      ]
    },
    {
      "cell_type": "code",
      "metadata": {
        "id": "4oIQjm3RhpNP",
        "colab_type": "code",
        "colab": {}
      },
      "source": [
        "ps_test = PorterStemmer()\n",
        "corpus_final_test = []\n",
        "for i in range(0, len(corpus_test)):\n",
        "    review = re.sub('[^a-zA-Z]', ' ', corpus_test[i])\n",
        "    review = review.lower()\n",
        "    review = review.split()\n",
        "    review = [ps_test.stem(word) for word in review if not word in stopwords.words('english')]\n",
        "    #review = [word for word in review if not word in stopwords.words('english')]\n",
        "    review = ' '.join(review)\n",
        "    corpus_final_test.append(review)"
      ],
      "execution_count": 29,
      "outputs": []
    },
    {
      "cell_type": "code",
      "metadata": {
        "id": "TZss8b3Jkb62",
        "colab_type": "code",
        "colab": {
          "base_uri": "https://localhost:8080/",
          "height": 86
        },
        "outputId": "8f23f7a8-b4b2-4b4b-8f00-3406e895af5e"
      },
      "source": [
        "corpus_final_test[0]"
      ],
      "execution_count": 30,
      "outputs": [
        {
          "output_type": "execute_result",
          "data": {
            "application/vnd.google.colaboratory.intrinsic+json": {
              "type": "string"
            },
            "text/plain": [
              "'look motel close proxim tv tape dr phil show chose dune sunset blvd west hollywood although properti display aaa emblem certainli left lot desir chip scrape bottom door frame bathroom lotion contain half full appar replac housekeep need earli wakeup call could use clock radio alarm radio room tv channel list remot tv menu make view chore tv remot return check place serv purpos place revisit'"
            ]
          },
          "metadata": {
            "tags": []
          },
          "execution_count": 30
        }
      ]
    },
    {
      "cell_type": "markdown",
      "metadata": {
        "id": "_GywnbIKTeim",
        "colab_type": "text"
      },
      "source": [
        "**After Cleaning Now Convert Corpus in BOW (Docuents Matrix wrt Words)**/\n",
        "**(Vector Space Modelling)**"
      ]
    },
    {
      "cell_type": "code",
      "metadata": {
        "id": "fw_Smw1whpJ_",
        "colab_type": "code",
        "colab": {}
      },
      "source": [
        "## Applying Countvectorizer on test data\n",
        "# from sklearn.feature_extraction.text import CountVectorizer\n",
        "# cv_test = CountVectorizer(max_features=5000,ngram_range=(1,3))\n",
        "# X_test = cv_test.fit_transform(corpus_final_test).toarray()"
      ],
      "execution_count": 31,
      "outputs": []
    },
    {
      "cell_type": "code",
      "metadata": {
        "id": "JmYyCTHyTudQ",
        "colab_type": "code",
        "colab": {}
      },
      "source": [
        "from sklearn.feature_extraction.text import TfidfVectorizer\n",
        "tfidf_test=TfidfVectorizer(max_features=5000,ngram_range=(1,3))\n",
        "X_test_val=tfidf_test.fit_transform(corpus_final_test).toarray()"
      ],
      "execution_count": 73,
      "outputs": []
    },
    {
      "cell_type": "code",
      "metadata": {
        "id": "xWVRG90a9PwX",
        "colab_type": "code",
        "colab": {}
      },
      "source": [
        "## Applying Countvectorizer On Train data\n",
        "# # Creating the Bag of Words model\n",
        "# from sklearn.feature_extraction.text import CountVectorizer\n",
        "# cv = CountVectorizer(max_features=5000,ngram_range=(1,3))\n",
        "# X_train = cv.fit_transform(corpus_final).toarray()"
      ],
      "execution_count": 33,
      "outputs": []
    },
    {
      "cell_type": "code",
      "metadata": {
        "id": "m13wrqqhUWY1",
        "colab_type": "code",
        "colab": {}
      },
      "source": [
        "from sklearn.feature_extraction.text import TfidfVectorizer\n",
        "tfidf_train=TfidfVectorizer(max_features=5000,ngram_range=(1,3))\n",
        "X=tfidf_train.fit_transform(corpus).toarray()"
      ],
      "execution_count": 35,
      "outputs": []
    },
    {
      "cell_type": "code",
      "metadata": {
        "id": "mvZsiDvPAwfL",
        "colab_type": "code",
        "colab": {
          "base_uri": "https://localhost:8080/",
          "height": 137
        },
        "outputId": "103a37f3-2a79-47b4-8635-6a1052465d71"
      },
      "source": [
        "X"
      ],
      "execution_count": 36,
      "outputs": [
        {
          "output_type": "execute_result",
          "data": {
            "text/plain": [
              "array([[0., 0., 0., ..., 0., 0., 0.],\n",
              "       [0., 0., 0., ..., 0., 0., 0.],\n",
              "       [0., 0., 0., ..., 0., 0., 0.],\n",
              "       ...,\n",
              "       [0., 0., 0., ..., 0., 0., 0.],\n",
              "       [0., 0., 0., ..., 0., 0., 0.],\n",
              "       [0., 0., 0., ..., 0., 0., 0.]])"
            ]
          },
          "metadata": {
            "tags": []
          },
          "execution_count": 36
        }
      ]
    },
    {
      "cell_type": "code",
      "metadata": {
        "id": "5ZQRJKfgBSI4",
        "colab_type": "code",
        "colab": {
          "base_uri": "https://localhost:8080/",
          "height": 120
        },
        "outputId": "5d3918b5-d4cc-4c14-9120-853d69f40d35"
      },
      "source": [
        "print(\"X_shape\",X.shape)\n",
        "print(\"y_class\",Y_class.shape)\n",
        "print(\"X_Type\",type(X))\n",
        "print(\"Y_Type\",type(Y_class))\n",
        "print(\"-----------------------------\")\n",
        "Y = Y_class.values\n",
        "print(\"Y_Type\",type(Y_train))"
      ],
      "execution_count": 38,
      "outputs": [
        {
          "output_type": "stream",
          "text": [
            "X_shape (38932, 5000)\n",
            "y_class (38932,)\n",
            "X_Type <class 'numpy.ndarray'>\n",
            "Y_Type <class 'pandas.core.series.Series'>\n",
            "-----------------------------\n",
            "Y_Type <class 'numpy.ndarray'>\n"
          ],
          "name": "stdout"
        }
      ]
    },
    {
      "cell_type": "code",
      "metadata": {
        "id": "_YKuY3IV9M0K",
        "colab_type": "code",
        "colab": {}
      },
      "source": [
        "## Divide the dataset into Train and Test\n",
        "from sklearn.model_selection import train_test_split\n",
        "X_train, X_test, Y_train, Y_test = train_test_split(X, Y, test_size=0.20, random_state=0)"
      ],
      "execution_count": 39,
      "outputs": []
    },
    {
      "cell_type": "code",
      "metadata": {
        "id": "ffhSMpdOgWdW",
        "colab_type": "code",
        "colab": {}
      },
      "source": [
        "# Examine the vocabulary and document-term matrix together\n",
        "my_corpus = pd.DataFrame(X_train, columns=tfidf_train.get_feature_names())"
      ],
      "execution_count": 40,
      "outputs": []
    },
    {
      "cell_type": "code",
      "metadata": {
        "id": "u4d59zUyghCf",
        "colab_type": "code",
        "colab": {
          "base_uri": "https://localhost:8080/",
          "height": 194
        },
        "outputId": "310f157c-f12c-477b-b868-5e7bff79bc91"
      },
      "source": [
        "my_corpus.head(2)"
      ],
      "execution_count": 41,
      "outputs": [
        {
          "output_type": "execute_result",
          "data": {
            "text/html": [
              "<div>\n",
              "<style scoped>\n",
              "    .dataframe tbody tr th:only-of-type {\n",
              "        vertical-align: middle;\n",
              "    }\n",
              "\n",
              "    .dataframe tbody tr th {\n",
              "        vertical-align: top;\n",
              "    }\n",
              "\n",
              "    .dataframe thead th {\n",
              "        text-align: right;\n",
              "    }\n",
              "</style>\n",
              "<table border=\"1\" class=\"dataframe\">\n",
              "  <thead>\n",
              "    <tr style=\"text-align: right;\">\n",
              "      <th></th>\n",
              "      <th>able</th>\n",
              "      <th>able to</th>\n",
              "      <th>able to get</th>\n",
              "      <th>about</th>\n",
              "      <th>about it</th>\n",
              "      <th>about minute</th>\n",
              "      <th>about minutes</th>\n",
              "      <th>about the</th>\n",
              "      <th>about the hotel</th>\n",
              "      <th>about this</th>\n",
              "      <th>about this hotel</th>\n",
              "      <th>above</th>\n",
              "      <th>above and</th>\n",
              "      <th>above and beyond</th>\n",
              "      <th>above the</th>\n",
              "      <th>absolutely</th>\n",
              "      <th>ac</th>\n",
              "      <th>acceptable</th>\n",
              "      <th>access</th>\n",
              "      <th>access to</th>\n",
              "      <th>access to the</th>\n",
              "      <th>accessible</th>\n",
              "      <th>accommodating</th>\n",
              "      <th>accommodations</th>\n",
              "      <th>accomodating</th>\n",
              "      <th>across</th>\n",
              "      <th>across from</th>\n",
              "      <th>across the</th>\n",
              "      <th>across the street</th>\n",
              "      <th>action</th>\n",
              "      <th>activities</th>\n",
              "      <th>actually</th>\n",
              "      <th>add</th>\n",
              "      <th>added</th>\n",
              "      <th>addition</th>\n",
              "      <th>additional</th>\n",
              "      <th>adequate</th>\n",
              "      <th>adjacent</th>\n",
              "      <th>adjoining</th>\n",
              "      <th>adults</th>\n",
              "      <th>...</th>\n",
              "      <th>you cannot</th>\n",
              "      <th>you could</th>\n",
              "      <th>you do</th>\n",
              "      <th>you do not</th>\n",
              "      <th>you feel</th>\n",
              "      <th>you get</th>\n",
              "      <th>you go</th>\n",
              "      <th>you had</th>\n",
              "      <th>you have</th>\n",
              "      <th>you have to</th>\n",
              "      <th>you just</th>\n",
              "      <th>you know</th>\n",
              "      <th>you like</th>\n",
              "      <th>you may</th>\n",
              "      <th>you might</th>\n",
              "      <th>you need</th>\n",
              "      <th>you need to</th>\n",
              "      <th>you pay</th>\n",
              "      <th>you pay for</th>\n",
              "      <th>you should</th>\n",
              "      <th>you stay</th>\n",
              "      <th>you the</th>\n",
              "      <th>you to</th>\n",
              "      <th>you walk</th>\n",
              "      <th>you want</th>\n",
              "      <th>you want to</th>\n",
              "      <th>you were</th>\n",
              "      <th>you will</th>\n",
              "      <th>you will be</th>\n",
              "      <th>you will not</th>\n",
              "      <th>you would</th>\n",
              "      <th>you would expect</th>\n",
              "      <th>young</th>\n",
              "      <th>your</th>\n",
              "      <th>your car</th>\n",
              "      <th>your own</th>\n",
              "      <th>your room</th>\n",
              "      <th>your stay</th>\n",
              "      <th>yourself</th>\n",
              "      <th>zoo</th>\n",
              "    </tr>\n",
              "  </thead>\n",
              "  <tbody>\n",
              "    <tr>\n",
              "      <th>0</th>\n",
              "      <td>0.0</td>\n",
              "      <td>0.0</td>\n",
              "      <td>0.0</td>\n",
              "      <td>0.034437</td>\n",
              "      <td>0.069955</td>\n",
              "      <td>0.0</td>\n",
              "      <td>0.0</td>\n",
              "      <td>0.0</td>\n",
              "      <td>0.0</td>\n",
              "      <td>0.0</td>\n",
              "      <td>0.0</td>\n",
              "      <td>0.0</td>\n",
              "      <td>0.0</td>\n",
              "      <td>0.0</td>\n",
              "      <td>0.0</td>\n",
              "      <td>0.0</td>\n",
              "      <td>0.0</td>\n",
              "      <td>0.0</td>\n",
              "      <td>0.0</td>\n",
              "      <td>0.0</td>\n",
              "      <td>0.0</td>\n",
              "      <td>0.0</td>\n",
              "      <td>0.0</td>\n",
              "      <td>0.0</td>\n",
              "      <td>0.0</td>\n",
              "      <td>0.0</td>\n",
              "      <td>0.0</td>\n",
              "      <td>0.0</td>\n",
              "      <td>0.0</td>\n",
              "      <td>0.0</td>\n",
              "      <td>0.0</td>\n",
              "      <td>0.0</td>\n",
              "      <td>0.0</td>\n",
              "      <td>0.0</td>\n",
              "      <td>0.0</td>\n",
              "      <td>0.0</td>\n",
              "      <td>0.0</td>\n",
              "      <td>0.0</td>\n",
              "      <td>0.0</td>\n",
              "      <td>0.0</td>\n",
              "      <td>...</td>\n",
              "      <td>0.0</td>\n",
              "      <td>0.0</td>\n",
              "      <td>0.0</td>\n",
              "      <td>0.0</td>\n",
              "      <td>0.0</td>\n",
              "      <td>0.0</td>\n",
              "      <td>0.0</td>\n",
              "      <td>0.0</td>\n",
              "      <td>0.0</td>\n",
              "      <td>0.0</td>\n",
              "      <td>0.0</td>\n",
              "      <td>0.0</td>\n",
              "      <td>0.0</td>\n",
              "      <td>0.0</td>\n",
              "      <td>0.0</td>\n",
              "      <td>0.0</td>\n",
              "      <td>0.0</td>\n",
              "      <td>0.0</td>\n",
              "      <td>0.0</td>\n",
              "      <td>0.0</td>\n",
              "      <td>0.0</td>\n",
              "      <td>0.0</td>\n",
              "      <td>0.0</td>\n",
              "      <td>0.0</td>\n",
              "      <td>0.0</td>\n",
              "      <td>0.0</td>\n",
              "      <td>0.0</td>\n",
              "      <td>0.0</td>\n",
              "      <td>0.0</td>\n",
              "      <td>0.0</td>\n",
              "      <td>0.065072</td>\n",
              "      <td>0.0</td>\n",
              "      <td>0.0</td>\n",
              "      <td>0.080538</td>\n",
              "      <td>0.0</td>\n",
              "      <td>0.0</td>\n",
              "      <td>0.0</td>\n",
              "      <td>0.0</td>\n",
              "      <td>0.0</td>\n",
              "      <td>0.0</td>\n",
              "    </tr>\n",
              "    <tr>\n",
              "      <th>1</th>\n",
              "      <td>0.0</td>\n",
              "      <td>0.0</td>\n",
              "      <td>0.0</td>\n",
              "      <td>0.000000</td>\n",
              "      <td>0.000000</td>\n",
              "      <td>0.0</td>\n",
              "      <td>0.0</td>\n",
              "      <td>0.0</td>\n",
              "      <td>0.0</td>\n",
              "      <td>0.0</td>\n",
              "      <td>0.0</td>\n",
              "      <td>0.0</td>\n",
              "      <td>0.0</td>\n",
              "      <td>0.0</td>\n",
              "      <td>0.0</td>\n",
              "      <td>0.0</td>\n",
              "      <td>0.0</td>\n",
              "      <td>0.0</td>\n",
              "      <td>0.0</td>\n",
              "      <td>0.0</td>\n",
              "      <td>0.0</td>\n",
              "      <td>0.0</td>\n",
              "      <td>0.0</td>\n",
              "      <td>0.0</td>\n",
              "      <td>0.0</td>\n",
              "      <td>0.0</td>\n",
              "      <td>0.0</td>\n",
              "      <td>0.0</td>\n",
              "      <td>0.0</td>\n",
              "      <td>0.0</td>\n",
              "      <td>0.0</td>\n",
              "      <td>0.0</td>\n",
              "      <td>0.0</td>\n",
              "      <td>0.0</td>\n",
              "      <td>0.0</td>\n",
              "      <td>0.0</td>\n",
              "      <td>0.0</td>\n",
              "      <td>0.0</td>\n",
              "      <td>0.0</td>\n",
              "      <td>0.0</td>\n",
              "      <td>...</td>\n",
              "      <td>0.0</td>\n",
              "      <td>0.0</td>\n",
              "      <td>0.0</td>\n",
              "      <td>0.0</td>\n",
              "      <td>0.0</td>\n",
              "      <td>0.0</td>\n",
              "      <td>0.0</td>\n",
              "      <td>0.0</td>\n",
              "      <td>0.0</td>\n",
              "      <td>0.0</td>\n",
              "      <td>0.0</td>\n",
              "      <td>0.0</td>\n",
              "      <td>0.0</td>\n",
              "      <td>0.0</td>\n",
              "      <td>0.0</td>\n",
              "      <td>0.0</td>\n",
              "      <td>0.0</td>\n",
              "      <td>0.0</td>\n",
              "      <td>0.0</td>\n",
              "      <td>0.0</td>\n",
              "      <td>0.0</td>\n",
              "      <td>0.0</td>\n",
              "      <td>0.0</td>\n",
              "      <td>0.0</td>\n",
              "      <td>0.0</td>\n",
              "      <td>0.0</td>\n",
              "      <td>0.0</td>\n",
              "      <td>0.0</td>\n",
              "      <td>0.0</td>\n",
              "      <td>0.0</td>\n",
              "      <td>0.000000</td>\n",
              "      <td>0.0</td>\n",
              "      <td>0.0</td>\n",
              "      <td>0.000000</td>\n",
              "      <td>0.0</td>\n",
              "      <td>0.0</td>\n",
              "      <td>0.0</td>\n",
              "      <td>0.0</td>\n",
              "      <td>0.0</td>\n",
              "      <td>0.0</td>\n",
              "    </tr>\n",
              "  </tbody>\n",
              "</table>\n",
              "<p>2 rows × 5000 columns</p>\n",
              "</div>"
            ],
            "text/plain": [
              "   able  able to  able to get     about  ...  your room  your stay  yourself  zoo\n",
              "0   0.0      0.0          0.0  0.034437  ...        0.0        0.0       0.0  0.0\n",
              "1   0.0      0.0          0.0  0.000000  ...        0.0        0.0       0.0  0.0\n",
              "\n",
              "[2 rows x 5000 columns]"
            ]
          },
          "metadata": {
            "tags": []
          },
          "execution_count": 41
        }
      ]
    },
    {
      "cell_type": "markdown",
      "metadata": {
        "id": "YMMjuMC8BblL",
        "colab_type": "text"
      },
      "source": [
        "**Modeling**"
      ]
    },
    {
      "cell_type": "code",
      "metadata": {
        "id": "1nhXMqXOBTto",
        "colab_type": "code",
        "colab": {
          "base_uri": "https://localhost:8080/",
          "height": 34
        },
        "outputId": "63fb1526-447a-449d-ef7f-c42132cb4105"
      },
      "source": [
        "# Training model using Naive bayes classifier\n",
        "from sklearn.naive_bayes import MultinomialNB\n",
        "hotel_review_model = MultinomialNB().fit(X_train, Y_train)\n",
        "hotel_review_model"
      ],
      "execution_count": 43,
      "outputs": [
        {
          "output_type": "execute_result",
          "data": {
            "text/plain": [
              "MultinomialNB(alpha=1.0, class_prior=None, fit_prior=True)"
            ]
          },
          "metadata": {
            "tags": []
          },
          "execution_count": 43
        }
      ]
    },
    {
      "cell_type": "code",
      "metadata": {
        "id": "Qqv74Jr7uk7E",
        "colab_type": "code",
        "colab": {
          "base_uri": "https://localhost:8080/",
          "height": 154
        },
        "outputId": "f7327576-9e1b-4442-d09d-b649a8c44610"
      },
      "source": [
        "# implement RandomForest Classifier\n",
        "from sklearn.ensemble import RandomForestClassifier\n",
        "rf_model=RandomForestClassifier(n_estimators=200,criterion='entropy')\n",
        "rf_model.fit(X_train, Y_train)"
      ],
      "execution_count": 48,
      "outputs": [
        {
          "output_type": "execute_result",
          "data": {
            "text/plain": [
              "RandomForestClassifier(bootstrap=True, ccp_alpha=0.0, class_weight=None,\n",
              "                       criterion='entropy', max_depth=None, max_features='auto',\n",
              "                       max_leaf_nodes=None, max_samples=None,\n",
              "                       min_impurity_decrease=0.0, min_impurity_split=None,\n",
              "                       min_samples_leaf=1, min_samples_split=2,\n",
              "                       min_weight_fraction_leaf=0.0, n_estimators=200,\n",
              "                       n_jobs=None, oob_score=False, random_state=None,\n",
              "                       verbose=0, warm_start=False)"
            ]
          },
          "metadata": {
            "tags": []
          },
          "execution_count": 48
        }
      ]
    },
    {
      "cell_type": "code",
      "metadata": {
        "id": "pn4BVFMixZ3_",
        "colab_type": "code",
        "colab": {
          "base_uri": "https://localhost:8080/",
          "height": 120
        },
        "outputId": "e222dbaa-3666-4de9-fb58-c1f8bc39846a"
      },
      "source": [
        "from sklearn.linear_model import PassiveAggressiveClassifier\n",
        "PAC_model = PassiveAggressiveClassifier(n_iter_no_change=50)\n",
        "PAC_model.fit(X_train, Y_train)"
      ],
      "execution_count": 49,
      "outputs": [
        {
          "output_type": "execute_result",
          "data": {
            "text/plain": [
              "PassiveAggressiveClassifier(C=1.0, average=False, class_weight=None,\n",
              "                            early_stopping=False, fit_intercept=True,\n",
              "                            loss='hinge', max_iter=1000, n_iter_no_change=50,\n",
              "                            n_jobs=None, random_state=None, shuffle=True,\n",
              "                            tol=0.001, validation_fraction=0.1, verbose=0,\n",
              "                            warm_start=False)"
            ]
          },
          "metadata": {
            "tags": []
          },
          "execution_count": 49
        }
      ]
    },
    {
      "cell_type": "code",
      "metadata": {
        "id": "XxYaT9wp7osA",
        "colab_type": "code",
        "colab": {
          "base_uri": "https://localhost:8080/",
          "height": 68
        },
        "outputId": "ac368798-4479-4704-a385-438ced1b236a"
      },
      "source": [
        "!pip install xgboost\n",
        "#!pip install xgboost-0.81-py2.py3-none-manylinux1_x86_64.whl"
      ],
      "execution_count": 50,
      "outputs": [
        {
          "output_type": "stream",
          "text": [
            "Requirement already satisfied: xgboost in /usr/local/lib/python3.6/dist-packages (0.90)\n",
            "Requirement already satisfied: scipy in /usr/local/lib/python3.6/dist-packages (from xgboost) (1.4.1)\n",
            "Requirement already satisfied: numpy in /usr/local/lib/python3.6/dist-packages (from xgboost) (1.18.5)\n"
          ],
          "name": "stdout"
        }
      ]
    },
    {
      "cell_type": "code",
      "metadata": {
        "id": "6gZwYbPg6-gi",
        "colab_type": "code",
        "colab": {
          "base_uri": "https://localhost:8080/",
          "height": 137
        },
        "outputId": "39418505-94e7-4ee1-9c20-deb525263fcf"
      },
      "source": [
        "from xgboost import XGBClassifier\n",
        "#lf = XGBClassifier(random_state=42, seed=2, colsample_bytree=0.6, subsample=0.7)\n",
        "XGB_model = XGBClassifier(max_depth=3, n_estimators=300, learning_rate=0.1)\n",
        "XGB_model.fit(X_train, Y_train)"
      ],
      "execution_count": 51,
      "outputs": [
        {
          "output_type": "execute_result",
          "data": {
            "text/plain": [
              "XGBClassifier(base_score=0.5, booster='gbtree', colsample_bylevel=1,\n",
              "              colsample_bynode=1, colsample_bytree=1, gamma=0,\n",
              "              learning_rate=0.1, max_delta_step=0, max_depth=3,\n",
              "              min_child_weight=1, missing=None, n_estimators=300, n_jobs=1,\n",
              "              nthread=None, objective='binary:logistic', random_state=0,\n",
              "              reg_alpha=0, reg_lambda=1, scale_pos_weight=1, seed=None,\n",
              "              silent=None, subsample=1, verbosity=1)"
            ]
          },
          "metadata": {
            "tags": []
          },
          "execution_count": 51
        }
      ]
    },
    {
      "cell_type": "code",
      "metadata": {
        "id": "xb_vt_79n3ge",
        "colab_type": "code",
        "colab": {}
      },
      "source": [
        "y_pred=XGB_model.predict(X_test)"
      ],
      "execution_count": 70,
      "outputs": []
    },
    {
      "cell_type": "code",
      "metadata": {
        "id": "ejTd_cWupows",
        "colab_type": "code",
        "colab": {
          "base_uri": "https://localhost:8080/",
          "height": 34
        },
        "outputId": "d282942a-c36e-4709-f9a1-b6cbd78db5ee"
      },
      "source": [
        "y_pred"
      ],
      "execution_count": 71,
      "outputs": [
        {
          "output_type": "execute_result",
          "data": {
            "text/plain": [
              "array([1, 1, 1, ..., 0, 0, 1])"
            ]
          },
          "metadata": {
            "tags": []
          },
          "execution_count": 71
        }
      ]
    },
    {
      "cell_type": "code",
      "metadata": {
        "id": "jwZXbO6QoREz",
        "colab_type": "code",
        "colab": {
          "base_uri": "https://localhost:8080/",
          "height": 206
        },
        "outputId": "fa98d911-7fb5-4ed7-ce13-ffcc1bee20ad"
      },
      "source": [
        "print(\"NB Training Accuracy:\",hotel_review_model.score(X_train,Y_train))\n",
        "print(\"NB Testing Accuracy:\",hotel_review_model.score(X_test,Y_test))\n",
        "print(\"--------------------------------------------------------------------\")\n",
        "print(\"RF Training Accuracy:\",rf_model.score(X_train,Y_train))\n",
        "print(\"RF Testing Accuracy:\",rf_model.score(X_test,Y_test))\n",
        "print(\"--------------------------------------------------------------------\")\n",
        "print(\"PAC Training Accuracy:\",PAC_model.score(X_train,Y_train))\n",
        "print(\"PAC Testing Accuracy:\",PAC_model.score(X_test,Y_test))\n",
        "print(\"--------------------------------------------------------------------\")\n",
        "print(\"XGB Training Accuracy:\",XGB_model.score(X_train,Y_train))\n",
        "print(\"XBG Testing Accuracy:\",XGB_model.score(X_test,Y_test))"
      ],
      "execution_count": 52,
      "outputs": [
        {
          "output_type": "stream",
          "text": [
            "NB Training Accuracy: 0.867169690158934\n",
            "NB Testing Accuracy: 0.8610504687299345\n",
            "--------------------------------------------------------------------\n",
            "RF Training Accuracy: 1.0\n",
            "RF Testing Accuracy: 0.8506485167587003\n",
            "--------------------------------------------------------------------\n",
            "PAC Training Accuracy: 0.9456413549526409\n",
            "PAC Testing Accuracy: 0.8539874149223065\n",
            "--------------------------------------------------------------------\n",
            "XGB Training Accuracy: 0.8969658051051533\n",
            "XBG Testing Accuracy: 0.8663156542956209\n"
          ],
          "name": "stdout"
        }
      ]
    },
    {
      "cell_type": "code",
      "metadata": {
        "id": "9kOLlfae59nm",
        "colab_type": "code",
        "colab": {
          "base_uri": "https://localhost:8080/",
          "height": 563
        },
        "outputId": "9b3a318f-8e91-43ef-92e1-86338b2737ca"
      },
      "source": [
        "Ya = Y_test  # Real Value\n",
        "Yp = hotel_review_model.predict(X_test) \n",
        "\n",
        "from sklearn.metrics import confusion_matrix\n",
        "cm_NB = confusion_matrix(Ya,Yp)\n",
        "print(cm_NB)\n",
        "\n",
        "# For more clearence of classification show Heatmap\n",
        "import seaborn as sb\n",
        "f,ax = plt.subplots(figsize=(6,6))\n",
        "sb.heatmap(cm_NB,annot=True,linewidths=5,linecolor='blue',fmt=\".00f\",ax=ax)     # fmt=\".00f\" -> Two decimal points with float\n",
        "plt.show()\n",
        "\n",
        "from sklearn.metrics import classification_report\n",
        "class_report = classification_report(Ya,Yp)\n",
        "print(class_report)"
      ],
      "execution_count": 53,
      "outputs": [
        {
          "output_type": "stream",
          "text": [
            "[[1787  715]\n",
            " [ 367 4918]]\n"
          ],
          "name": "stdout"
        },
        {
          "output_type": "display_data",
          "data": {
            "image/png": "[encoded data removed]",
            "text/plain": [
              "<Figure size 432x432 with 2 Axes>"
            ]
          },
          "metadata": {
            "tags": [],
            "needs_background": "light"
          }
        },
        {
          "output_type": "stream",
          "text": [
            "              precision    recall  f1-score   support\n",
            "\n",
            "           0       0.83      0.71      0.77      2502\n",
            "           1       0.87      0.93      0.90      5285\n",
            "\n",
            "    accuracy                           0.86      7787\n",
            "   macro avg       0.85      0.82      0.83      7787\n",
            "weighted avg       0.86      0.86      0.86      7787\n",
            "\n"
          ],
          "name": "stdout"
        }
      ]
    },
    {
      "cell_type": "code",
      "metadata": {
        "id": "T8ERvbqg62c2",
        "colab_type": "code",
        "colab": {
          "base_uri": "https://localhost:8080/",
          "height": 563
        },
        "outputId": "7dec7d28-16dd-4a3e-b348-43ce840cf300"
      },
      "source": [
        "Ya = Y_test  # Real Value\n",
        "Yp = rf_model.predict(X_test) \n",
        "\n",
        "from sklearn.metrics import confusion_matrix\n",
        "cm_RF = confusion_matrix(Ya,Yp)\n",
        "print(cm_RF)\n",
        "\n",
        "# For more clearence of classification show Heatmap\n",
        "import seaborn as sb\n",
        "f,ax = plt.subplots(figsize=(6,6))\n",
        "sb.heatmap(cm_RF,annot=True,linewidths=5,linecolor='blue',fmt=\".00f\",ax=ax)     # fmt=\".00f\" -> Two decimal points with float\n",
        "plt.show()\n",
        "\n",
        "from sklearn.metrics import classification_report\n",
        "class_report = classification_report(Ya,Yp)\n",
        "print(class_report)"
      ],
      "execution_count": 54,
      "outputs": [
        {
          "output_type": "stream",
          "text": [
            "[[1546  956]\n",
            " [ 207 5078]]\n"
          ],
          "name": "stdout"
        },
        {
          "output_type": "display_data",
          "data": {
            "image/png": "[encoded data removed]",
            "text/plain": [
              "<Figure size 432x432 with 2 Axes>"
            ]
          },
          "metadata": {
            "tags": [],
            "needs_background": "light"
          }
        },
        {
          "output_type": "stream",
          "text": [
            "              precision    recall  f1-score   support\n",
            "\n",
            "           0       0.88      0.62      0.73      2502\n",
            "           1       0.84      0.96      0.90      5285\n",
            "\n",
            "    accuracy                           0.85      7787\n",
            "   macro avg       0.86      0.79      0.81      7787\n",
            "weighted avg       0.85      0.85      0.84      7787\n",
            "\n"
          ],
          "name": "stdout"
        }
      ]
    },
    {
      "cell_type": "code",
      "metadata": {
        "id": "ah5PYjP97DpJ",
        "colab_type": "code",
        "colab": {
          "base_uri": "https://localhost:8080/",
          "height": 563
        },
        "outputId": "c801b59c-bcc7-4653-a17a-139db5508712"
      },
      "source": [
        "Ya = Y_test  # Real Value\n",
        "Yp = PAC_model.predict(X_test) \n",
        "\n",
        "from sklearn.metrics import confusion_matrix\n",
        "cm_PAC = confusion_matrix(Ya,Yp)\n",
        "print(cm_PAC)\n",
        "\n",
        "# For more clearence of classification show Heatmap\n",
        "import seaborn as sb\n",
        "f,ax = plt.subplots(figsize=(6,6))\n",
        "sb.heatmap(cm_PAC,annot=True,linewidths=5,linecolor='blue',fmt=\".00f\",ax=ax)     # fmt=\".00f\" -> Two decimal points with float\n",
        "plt.show()\n",
        "\n",
        "from sklearn.metrics import classification_report\n",
        "class_report = classification_report(Ya,Yp)\n",
        "print(class_report)"
      ],
      "execution_count": 55,
      "outputs": [
        {
          "output_type": "stream",
          "text": [
            "[[1875  627]\n",
            " [ 510 4775]]\n"
          ],
          "name": "stdout"
        },
        {
          "output_type": "display_data",
          "data": {
            "image/png": "[encoded data removed]",
            "text/plain": [
              "<Figure size 432x432 with 2 Axes>"
            ]
          },
          "metadata": {
            "tags": [],
            "needs_background": "light"
          }
        },
        {
          "output_type": "stream",
          "text": [
            "              precision    recall  f1-score   support\n",
            "\n",
            "           0       0.79      0.75      0.77      2502\n",
            "           1       0.88      0.90      0.89      5285\n",
            "\n",
            "    accuracy                           0.85      7787\n",
            "   macro avg       0.84      0.83      0.83      7787\n",
            "weighted avg       0.85      0.85      0.85      7787\n",
            "\n"
          ],
          "name": "stdout"
        }
      ]
    },
    {
      "cell_type": "code",
      "metadata": {
        "id": "nx6Xw3SB7Vd2",
        "colab_type": "code",
        "colab": {
          "base_uri": "https://localhost:8080/",
          "height": 563
        },
        "outputId": "ed5fc7af-400e-4cb5-b71a-afe3af8b6e2e"
      },
      "source": [
        "Ya = Y_test  # Real Value\n",
        "Yp = XGB_model.predict(X_test) \n",
        "\n",
        "from sklearn.metrics import confusion_matrix\n",
        "cm_XGB = confusion_matrix(Ya,Yp)\n",
        "print(cm_XGB)\n",
        "\n",
        "# For more clearence of classification show Heatmap\n",
        "import seaborn as sb\n",
        "f,ax = plt.subplots(figsize=(6,6))\n",
        "sb.heatmap(cm_XGB,annot=True,linewidths=5,linecolor='blue',fmt=\".00f\",ax=ax)     # fmt=\".00f\" -> Two decimal points with float\n",
        "plt.show()\n",
        "\n",
        "from sklearn.metrics import classification_report\n",
        "class_report = classification_report(Ya,Yp)\n",
        "print(class_report)"
      ],
      "execution_count": 56,
      "outputs": [
        {
          "output_type": "stream",
          "text": [
            "[[1801  701]\n",
            " [ 340 4945]]\n"
          ],
          "name": "stdout"
        },
        {
          "output_type": "display_data",
          "data": {
            "image/png": "[encoded data removed]",
            "text/plain": [
              "<Figure size 432x432 with 2 Axes>"
            ]
          },
          "metadata": {
            "tags": [],
            "needs_background": "light"
          }
        },
        {
          "output_type": "stream",
          "text": [
            "              precision    recall  f1-score   support\n",
            "\n",
            "           0       0.84      0.72      0.78      2502\n",
            "           1       0.88      0.94      0.90      5285\n",
            "\n",
            "    accuracy                           0.87      7787\n",
            "   macro avg       0.86      0.83      0.84      7787\n",
            "weighted avg       0.86      0.87      0.86      7787\n",
            "\n"
          ],
          "name": "stdout"
        }
      ]
    },
    {
      "cell_type": "code",
      "metadata": {
        "id": "2dVY7fFi7v6Q",
        "colab_type": "code",
        "colab": {
          "base_uri": "https://localhost:8080/",
          "height": 764
        },
        "outputId": "f58512bc-60f1-4b82-b055-53becf749693"
      },
      "source": [
        "from sklearn.metrics import roc_curve\n",
        "from sklearn.metrics import roc_auc_score\n",
        "# Calculate of probabilitise at Given X (X_test)\n",
        "XGB_model_probability = XGB_model.predict_proba(X_test)\n",
        "print(XGB_model_probability)\n",
        "\n",
        "print(\"Length of X_test: \",len(X_test))\n",
        "print(\"length of Log_Model_prob: \",len(XGB_model_probability))\n",
        "\n",
        "\n",
        "Ya_list = list(Ya)\n",
        "Yp_list = list(Yp)\n",
        "table  = pd.DataFrame({'Ya':Ya_list,'Yp':Yp_list})\n",
        "print(table)\n",
        "\n",
        "# Print the seperate probabilty of 1 & 0   \n",
        "#prob_0 = logictic_model_probability[:,0]\n",
        "prob_1 = XGB_model_probability[:,1]\n",
        "#print(\"Prob. of 0 at given X: \",prob_0)\n",
        "print(\"Prob. of 1 at given X: \",prob_1)\n",
        "\n",
        "\n",
        "# Print AUC \n",
        "auc  = roc_auc_score(Y_test,prob_1)\n",
        "print(\"AUC is %.2f\" %auc)\n",
        "\n",
        "\n",
        "def plot_roc_binary_classi(fpr,tpr):                   # always fpr:X-axis & TPR: Y-axis\n",
        "  plt.rcParams[\"figure.figsize\"] = (5,5)\n",
        "  plt.plot(fpr,tpr,color=\"orange\",label=\"ROC\")\n",
        "  plt.plot([0,1],[0,1],color=\"green\",linestyle=\"--\")   # Draw a Random classification line (Normal Disgonal straight line [(0,0) to (1,1)] )\n",
        "  plt.plot(\"FPR\")\n",
        "  plt.plot(\"TPR\")\n",
        "  plt.title(\"ROC Curve\")\n",
        "  #plt.legend()\n",
        "  plt.show()\n",
        "\n",
        "# Calculate TPR & FPR and Threshold values \n",
        "fpr,tpr,threshold = roc_curve(Y_test,prob_1)\n",
        "#print(\"FPR {}, TPR {} , threshold {}\".format(fpr,tpr,threshold))\n",
        "#threshold\n",
        "plot_roc_binary_classi(fpr,tpr)"
      ],
      "execution_count": 62,
      "outputs": [
        {
          "output_type": "stream",
          "text": [
            "[[0.16285992 0.8371401 ]\n",
            " [0.4348114  0.5651886 ]\n",
            " [0.06525409 0.9347459 ]\n",
            " ...\n",
            " [0.9162177  0.08378229]\n",
            " [0.9598593  0.04014069]\n",
            " [0.39493906 0.60506094]]\n",
            "Length of X_test:  7787\n",
            "length of Log_Model_prob:  7787\n",
            "      Ya  Yp\n",
            "0      1   1\n",
            "1      1   1\n",
            "2      1   1\n",
            "3      1   1\n",
            "4      1   1\n",
            "...   ..  ..\n",
            "7782   1   1\n",
            "7783   0   0\n",
            "7784   0   0\n",
            "7785   0   0\n",
            "7786   0   1\n",
            "\n",
            "[7787 rows x 2 columns]\n",
            "Prob. of 1 at given X:  [0.8371401  0.5651886  0.9347459  ... 0.08378229 0.04014069 0.60506094]\n",
            "AUC is 0.93\n"
          ],
          "name": "stdout"
        },
        {
          "output_type": "display_data",
          "data": {
            "image/png": "[encoded data removed]",
            "text/plain": [
              "<Figure size 360x360 with 1 Axes>"
            ]
          },
          "metadata": {
            "tags": [],
            "needs_background": "light"
          }
        }
      ]
    },
    {
      "cell_type": "code",
      "metadata": {
        "id": "fctwHO9cAXtg",
        "colab_type": "code",
        "colab": {
          "base_uri": "https://localhost:8080/",
          "height": 1000
        },
        "outputId": "b9da0688-37b9-41f8-952b-2d452fbb0593"
      },
      "source": [
        "## Get Features names\n",
        "feature_names = tfidf_train.get_feature_names()\n",
        "feature_names"
      ],
      "execution_count": 66,
      "outputs": [
        {
          "output_type": "execute_result",
          "data": {
            "text/plain": [
              "['able',\n",
              " 'able to',\n",
              " 'able to get',\n",
              " 'about',\n",
              " 'about it',\n",
              " 'about minute',\n",
              " 'about minutes',\n",
              " 'about the',\n",
              " 'about the hotel',\n",
              " 'about this',\n",
              " 'about this hotel',\n",
              " 'above',\n",
              " 'above and',\n",
              " 'above and beyond',\n",
              " 'above the',\n",
              " 'absolutely',\n",
              " 'ac',\n",
              " 'acceptable',\n",
              " 'access',\n",
              " 'access to',\n",
              " 'access to the',\n",
              " 'accessible',\n",
              " 'accommodating',\n",
              " 'accommodations',\n",
              " 'accomodating',\n",
              " 'across',\n",
              " 'across from',\n",
              " 'across the',\n",
              " 'across the street',\n",
              " 'action',\n",
              " 'activities',\n",
              " 'actually',\n",
              " 'add',\n",
              " 'added',\n",
              " 'addition',\n",
              " 'additional',\n",
              " 'adequate',\n",
              " 'adjacent',\n",
              " 'adjoining',\n",
              " 'adults',\n",
              " 'advance',\n",
              " 'advantage',\n",
              " 'advantage of',\n",
              " 'advertised',\n",
              " 'advice',\n",
              " 'advised',\n",
              " 'advisor',\n",
              " 'affinia',\n",
              " 'affordable',\n",
              " 'after',\n",
              " 'after long',\n",
              " 'after reading',\n",
              " 'after the',\n",
              " 'after we',\n",
              " 'afternoon',\n",
              " 'again',\n",
              " 'again and',\n",
              " 'again but',\n",
              " 'again for',\n",
              " 'again if',\n",
              " 'again in',\n",
              " 'again the',\n",
              " 'again we',\n",
              " 'age',\n",
              " 'agent',\n",
              " 'ago',\n",
              " 'agree',\n",
              " 'ahead',\n",
              " 'air',\n",
              " 'air conditioner',\n",
              " 'air conditioning',\n",
              " 'airport',\n",
              " 'airport and',\n",
              " 'alarm',\n",
              " 'all',\n",
              " 'all around',\n",
              " 'all day',\n",
              " 'all in',\n",
              " 'all in all',\n",
              " 'all it',\n",
              " 'all my',\n",
              " 'all night',\n",
              " 'all of',\n",
              " 'all of the',\n",
              " 'all our',\n",
              " 'all over',\n",
              " 'all over the',\n",
              " 'all that',\n",
              " 'all the',\n",
              " 'all the staff',\n",
              " 'all the way',\n",
              " 'all very',\n",
              " 'all we',\n",
              " 'allow',\n",
              " 'allowed',\n",
              " 'almost',\n",
              " 'alone',\n",
              " 'along',\n",
              " 'along the',\n",
              " 'along with',\n",
              " 'alot',\n",
              " 'already',\n",
              " 'also',\n",
              " 'also had',\n",
              " 'also the',\n",
              " 'also very',\n",
              " 'although',\n",
              " 'although it',\n",
              " 'although the',\n",
              " 'although we',\n",
              " 'always',\n",
              " 'am',\n",
              " 'am and',\n",
              " 'am in',\n",
              " 'am not',\n",
              " 'am not sure',\n",
              " 'am sure',\n",
              " 'amazing',\n",
              " 'amenities',\n",
              " 'american',\n",
              " 'amount',\n",
              " 'amount of',\n",
              " 'ample',\n",
              " 'an',\n",
              " 'an amazing',\n",
              " 'an early',\n",
              " 'an easy',\n",
              " 'an excellent',\n",
              " 'an extra',\n",
              " 'an hour',\n",
              " 'an issue',\n",
              " 'an old',\n",
              " 'an older',\n",
              " 'an upgrade',\n",
              " 'and',\n",
              " 'and accommodating',\n",
              " 'and after',\n",
              " 'and again',\n",
              " 'and all',\n",
              " 'and all the',\n",
              " 'and also',\n",
              " 'and although',\n",
              " 'and always',\n",
              " 'and am',\n",
              " 'and an',\n",
              " 'and are',\n",
              " 'and as',\n",
              " 'and asked',\n",
              " 'and at',\n",
              " 'and bar',\n",
              " 'and bathroom',\n",
              " 'and beyond',\n",
              " 'and breakfast',\n",
              " 'and can',\n",
              " 'and check',\n",
              " 'and clean',\n",
              " 'and clean the',\n",
              " 'and close',\n",
              " 'and close to',\n",
              " 'and coffee',\n",
              " 'and comfortable',\n",
              " 'and comfortable the',\n",
              " 'and convenient',\n",
              " 'and could',\n",
              " 'and could not',\n",
              " 'and courteous',\n",
              " 'and decided',\n",
              " 'and did',\n",
              " 'and did not',\n",
              " 'and do',\n",
              " 'and do not',\n",
              " 'and down',\n",
              " 'and easy',\n",
              " 'and efficient',\n",
              " 'and enjoyed',\n",
              " 'and even',\n",
              " 'and everything',\n",
              " 'and felt',\n",
              " 'and for',\n",
              " 'and found',\n",
              " 'and free',\n",
              " 'and friendly',\n",
              " 'and friendly the',\n",
              " 'and from',\n",
              " 'and gave',\n",
              " 'and get',\n",
              " 'and go',\n",
              " 'and good',\n",
              " 'and got',\n",
              " 'and great',\n",
              " 'and had',\n",
              " 'and had great',\n",
              " 'and had to',\n",
              " 'and has',\n",
              " 'and have',\n",
              " 'and he',\n",
              " 'and helpful',\n",
              " 'and helpful and',\n",
              " 'and helpful the',\n",
              " 'and hot',\n",
              " 'and if',\n",
              " 'and if you',\n",
              " 'and in',\n",
              " 'and in the',\n",
              " 'and is',\n",
              " 'and it',\n",
              " 'and it is',\n",
              " 'and it was',\n",
              " 'and its',\n",
              " 'and just',\n",
              " 'and large',\n",
              " 'and left',\n",
              " 'and location',\n",
              " 'and lots',\n",
              " 'and lots of',\n",
              " 'and loved',\n",
              " 'and made',\n",
              " 'and many',\n",
              " 'and microwave',\n",
              " 'and modern',\n",
              " 'and more',\n",
              " 'and most',\n",
              " 'and my',\n",
              " 'and never',\n",
              " 'and nice',\n",
              " 'and no',\n",
              " 'and not',\n",
              " 'and of',\n",
              " 'and on',\n",
              " 'and one',\n",
              " 'and only',\n",
              " 'and other',\n",
              " 'and our',\n",
              " 'and our room',\n",
              " 'and out',\n",
              " 'and pillows',\n",
              " 'and pleasant',\n",
              " 'and professional',\n",
              " 'and quiet',\n",
              " 'and really',\n",
              " 'and restaurant',\n",
              " 'and restaurants',\n",
              " 'and room',\n",
              " 'and said',\n",
              " 'and service',\n",
              " 'and she',\n",
              " 'and shopping',\n",
              " 'and small',\n",
              " 'and so',\n",
              " 'and some',\n",
              " 'and spacious',\n",
              " 'and staff',\n",
              " 'and stay',\n",
              " 'and stayed',\n",
              " 'and stayed at',\n",
              " 'and stayed here',\n",
              " 'and th',\n",
              " 'and that',\n",
              " 'and that is',\n",
              " 'and the',\n",
              " 'and the bathroom',\n",
              " 'and the bed',\n",
              " 'and the beds',\n",
              " 'and the food',\n",
              " 'and the hotel',\n",
              " 'and the location',\n",
              " 'and the room',\n",
              " 'and the rooms',\n",
              " 'and the service',\n",
              " 'and the staff',\n",
              " 'and their',\n",
              " 'and then',\n",
              " 'and there',\n",
              " 'and there are',\n",
              " 'and there is',\n",
              " 'and there was',\n",
              " 'and there were',\n",
              " 'and they',\n",
              " 'and they were',\n",
              " 'and this',\n",
              " 'and this was',\n",
              " 'and thought',\n",
              " 'and to',\n",
              " 'and told',\n",
              " 'and took',\n",
              " 'and two',\n",
              " 'and very',\n",
              " 'and very clean',\n",
              " 'and very comfortable',\n",
              " 'and was',\n",
              " 'and was told',\n",
              " 'and was very',\n",
              " 'and we',\n",
              " 'and we had',\n",
              " 'and we were',\n",
              " 'and welcoming',\n",
              " 'and well',\n",
              " 'and went',\n",
              " 'and were',\n",
              " 'and what',\n",
              " 'and when',\n",
              " 'and when we',\n",
              " 'and while',\n",
              " 'and will',\n",
              " 'and with',\n",
              " 'and within',\n",
              " 'and would',\n",
              " 'and would not',\n",
              " 'and you',\n",
              " 'and you can',\n",
              " 'anniversary',\n",
              " 'annoying',\n",
              " 'another',\n",
              " 'another hotel',\n",
              " 'another room',\n",
              " 'answer',\n",
              " 'answered',\n",
              " 'antonio',\n",
              " 'any',\n",
              " 'any of',\n",
              " 'any of the',\n",
              " 'any other',\n",
              " 'anyone',\n",
              " 'anything',\n",
              " 'anyway',\n",
              " 'anywhere',\n",
              " 'anywhere else',\n",
              " 'apart',\n",
              " 'apartment',\n",
              " 'apparently',\n",
              " 'appeared',\n",
              " 'appointed',\n",
              " 'appointed and',\n",
              " 'appreciate',\n",
              " 'appreciated',\n",
              " 'april',\n",
              " 'are',\n",
              " 'are all',\n",
              " 'are also',\n",
              " 'are always',\n",
              " 'are clean',\n",
              " 'are clean and',\n",
              " 'are going',\n",
              " 'are going to',\n",
              " 'are great',\n",
              " 'are in',\n",
              " 'are just',\n",
              " 'are looking',\n",
              " 'are looking for',\n",
              " 'are many',\n",
              " 'are nice',\n",
              " 'are no',\n",
              " 'are not',\n",
              " 'are on',\n",
              " 'are plenty',\n",
              " 'are small',\n",
              " 'are so',\n",
              " 'are spacious',\n",
              " 'are the',\n",
              " 'are very',\n",
              " 'area',\n",
              " 'area and',\n",
              " 'area but',\n",
              " 'area is',\n",
              " 'area of',\n",
              " 'area the',\n",
              " 'area was',\n",
              " 'area with',\n",
              " 'areas',\n",
              " 'around',\n",
              " 'around and',\n",
              " 'around pm',\n",
              " 'around the',\n",
              " 'around the corner',\n",
              " 'around the hotel',\n",
              " 'arranged',\n",
              " 'arrival',\n",
              " 'arrive',\n",
              " 'arrived',\n",
              " 'arrived at',\n",
              " 'arrived at the',\n",
              " 'arriving',\n",
              " 'art',\n",
              " 'as',\n",
              " 'as an',\n",
              " 'as far',\n",
              " 'as for',\n",
              " 'as good',\n",
              " 'as if',\n",
              " 'as it',\n",
              " 'as it is',\n",
              " 'as it was',\n",
              " 'as soon',\n",
              " 'as soon as',\n",
              " 'as the',\n",
              " 'as there',\n",
              " 'as they',\n",
              " 'as was',\n",
              " 'as we',\n",
              " 'as we were',\n",
              " 'as well',\n",
              " 'as well as',\n",
              " 'as well the',\n",
              " 'as you',\n",
              " 'ask',\n",
              " 'ask for',\n",
              " 'asked',\n",
              " 'asked for',\n",
              " 'asked if',\n",
              " 'asked the',\n",
              " 'asked to',\n",
              " 'asking',\n",
              " 'at',\n",
              " 'at all',\n",
              " 'at all the',\n",
              " 'at am',\n",
              " 'at any',\n",
              " 'at best',\n",
              " 'at check',\n",
              " 'at check in',\n",
              " 'at first',\n",
              " 'at home',\n",
              " 'at hotel',\n",
              " 'at least',\n",
              " 'at night',\n",
              " 'at one',\n",
              " 'at other',\n",
              " 'at pm',\n",
              " 'at that',\n",
              " 'at the',\n",
              " 'at the desk',\n",
              " 'at the end',\n",
              " 'at the front',\n",
              " 'at the hotel',\n",
              " 'at the restaurant',\n",
              " 'at the same',\n",
              " 'at the westin',\n",
              " 'at this',\n",
              " 'at this hotel',\n",
              " 'at times',\n",
              " 'ate',\n",
              " 'ate at',\n",
              " 'atmosphere',\n",
              " 'attached',\n",
              " 'attached to',\n",
              " 'attended',\n",
              " 'attending',\n",
              " 'attention',\n",
              " 'attention to',\n",
              " 'attentive',\n",
              " 'attitude',\n",
              " 'attractions',\n",
              " 'attractive',\n",
              " 'august',\n",
              " 'austin',\n",
              " 'available',\n",
              " 'available in',\n",
              " 'ave',\n",
              " 'avenue',\n",
              " 'average',\n",
              " 'avoid',\n",
              " 'aware',\n",
              " 'away',\n",
              " 'away and',\n",
              " 'away from',\n",
              " 'away from the',\n",
              " 'away the',\n",
              " 'awesome',\n",
              " 'awful',\n",
              " 'back',\n",
              " 'back and',\n",
              " 'back from',\n",
              " 'back in',\n",
              " 'back of',\n",
              " 'back to',\n",
              " 'back to the',\n",
              " 'bacon',\n",
              " 'bad',\n",
              " 'bag',\n",
              " 'bagels',\n",
              " 'bags',\n",
              " 'balcony',\n",
              " 'baltimore',\n",
              " 'bank',\n",
              " 'bar',\n",
              " 'bar and',\n",
              " 'bar area',\n",
              " 'bar is',\n",
              " 'bar was',\n",
              " 'barely',\n",
              " 'bargain',\n",
              " 'bars',\n",
              " 'bars and',\n",
              " 'bart',\n",
              " 'bartender',\n",
              " 'base',\n",
              " 'based',\n",
              " 'based on',\n",
              " 'basic',\n",
              " 'basically',\n",
              " 'bath',\n",
              " 'bathroom',\n",
              " 'bathroom and',\n",
              " 'bathroom had',\n",
              " 'bathroom is',\n",
              " 'bathroom the',\n",
              " 'bathroom was',\n",
              " 'bathroom with',\n",
              " 'bathrooms',\n",
              " 'bathrooms are',\n",
              " 'bathtub',\n",
              " 'bay',\n",
              " 'be',\n",
              " 'be able',\n",
              " 'be able to',\n",
              " 'be back',\n",
              " 'be beat',\n",
              " 'be better',\n",
              " 'be great',\n",
              " 'be in',\n",
              " 'be staying',\n",
              " 'be sure',\n",
              " 'be the',\n",
              " 'be very',\n",
              " 'beach',\n",
              " 'beat',\n",
              " 'beat the',\n",
              " 'beautiful',\n",
              " 'beautiful and',\n",
              " 'beautifully',\n",
              " 'because',\n",
              " 'because it',\n",
              " 'because it is',\n",
              " 'because it was',\n",
              " 'because of',\n",
              " 'because of the',\n",
              " 'because the',\n",
              " 'because they',\n",
              " 'because we',\n",
              " 'bed',\n",
              " 'bed and',\n",
              " 'bed is',\n",
              " 'bed the',\n",
              " 'bed was',\n",
              " 'bed was comfortable',\n",
              " 'bed was very',\n",
              " 'bedding',\n",
              " 'bedroom',\n",
              " 'bedroom suite',\n",
              " 'beds',\n",
              " 'beds and',\n",
              " 'beds are',\n",
              " 'beds were',\n",
              " 'been',\n",
              " 'been more',\n",
              " 'been to',\n",
              " 'beer',\n",
              " 'before',\n",
              " 'before and',\n",
              " 'before the',\n",
              " 'before we',\n",
              " 'beginning',\n",
              " 'behind',\n",
              " 'behind the',\n",
              " 'being',\n",
              " 'being in',\n",
              " 'believe',\n",
              " 'bell',\n",
              " 'bellman',\n",
              " 'below',\n",
              " 'best',\n",
              " 'best part',\n",
              " 'best western',\n",
              " 'better',\n",
              " 'better than',\n",
              " 'between',\n",
              " 'between the',\n",
              " 'beware',\n",
              " 'beyond',\n",
              " 'big',\n",
              " 'big and',\n",
              " 'big deal',\n",
              " 'bigger',\n",
              " 'biggest',\n",
              " 'bill',\n",
              " 'birthday',\n",
              " 'bit',\n",
              " 'bit of',\n",
              " 'black',\n",
              " 'block',\n",
              " 'block away',\n",
              " 'block from',\n",
              " 'blocks',\n",
              " 'blocks away',\n",
              " 'blocks from',\n",
              " 'blocks from the',\n",
              " 'blocks to',\n",
              " 'blue',\n",
              " 'board',\n",
              " 'boarding',\n",
              " 'bonus',\n",
              " 'book',\n",
              " 'booked',\n",
              " 'booked the',\n",
              " 'booked this',\n",
              " 'booked this hotel',\n",
              " 'booked through',\n",
              " 'booking',\n",
              " 'boston',\n",
              " 'both',\n",
              " 'both the',\n",
              " 'bother',\n",
              " 'bothered',\n",
              " 'bottle',\n",
              " 'bottle of',\n",
              " 'bottled',\n",
              " 'bottles',\n",
              " 'bottom',\n",
              " 'bought',\n",
              " 'boutique',\n",
              " 'boutique hotel',\n",
              " 'box',\n",
              " 'boyfriend',\n",
              " 'boys',\n",
              " 'brand',\n",
              " 'break',\n",
              " 'breakfast',\n",
              " 'breakfast and',\n",
              " 'breakfast at',\n",
              " 'breakfast at the',\n",
              " 'breakfast buffet',\n",
              " 'breakfast in',\n",
              " 'breakfast in the',\n",
              " 'breakfast is',\n",
              " 'breakfast the',\n",
              " 'breakfast was',\n",
              " 'breakfasts',\n",
              " 'bridge',\n",
              " 'bright',\n",
              " 'brilliant',\n",
              " 'bring',\n",
              " 'broadway',\n",
              " 'broken',\n",
              " 'brought',\n",
              " 'brown',\n",
              " 'bucks',\n",
              " 'budget',\n",
              " 'buffet',\n",
              " 'buffet was',\n",
              " 'bugs',\n",
              " 'building',\n",
              " 'building and',\n",
              " 'buildings',\n",
              " 'built',\n",
              " 'bus',\n",
              " 'buses',\n",
              " 'business',\n",
              " 'business and',\n",
              " 'business center',\n",
              " 'business trip',\n",
              " 'busy',\n",
              " 'but',\n",
              " 'but am',\n",
              " 'but as',\n",
              " 'but at',\n",
              " 'but clean',\n",
              " 'but could',\n",
              " 'but did',\n",
              " 'but did not',\n",
              " 'but do',\n",
              " 'but do not',\n",
              " 'but for',\n",
              " 'but had',\n",
              " 'but have',\n",
              " 'but if',\n",
              " 'but if you',\n",
              " 'but in',\n",
              " 'but it',\n",
              " 'but it is',\n",
              " 'but it was',\n",
              " 'but my',\n",
              " 'but no',\n",
              " 'but not',\n",
              " 'but nothing',\n",
              " 'but still',\n",
              " 'but that',\n",
              " 'but that is',\n",
              " 'but the',\n",
              " 'but the hotel',\n",
              " 'but the room',\n",
              " 'but then',\n",
              " 'but there',\n",
              " 'but there are',\n",
              " 'but there is',\n",
              " 'but there was',\n",
              " 'but they',\n",
              " 'but they were',\n",
              " 'but this',\n",
              " 'but this is',\n",
              " 'but very',\n",
              " 'but was',\n",
              " 'but we',\n",
              " 'but we did',\n",
              " 'but we were',\n",
              " 'but when',\n",
              " 'but with',\n",
              " 'but would',\n",
              " 'but you',\n",
              " 'buy',\n",
              " 'by',\n",
              " 'by far',\n",
              " 'by the',\n",
              " 'cab',\n",
              " 'cable',\n",
              " 'cable car',\n",
              " 'cabs',\n",
              " 'cafe',\n",
              " 'california',\n",
              " 'call',\n",
              " 'call the',\n",
              " 'called',\n",
              " 'called the',\n",
              " 'called the front',\n",
              " 'called to',\n",
              " 'calling',\n",
              " 'calls',\n",
              " 'came',\n",
              " 'came back',\n",
              " 'came in',\n",
              " 'came to',\n",
              " 'can',\n",
              " 'can be',\n",
              " 'can get',\n",
              " 'can hear',\n",
              " 'can say',\n",
              " 'can see',\n",
              " 'can walk',\n",
              " 'cannot',\n",
              " 'cannot be',\n",
              " 'cannot say',\n",
              " 'car',\n",
              " 'car and',\n",
              " 'card',\n",
              " 'care',\n",
              " 'care of',\n",
              " 'carlton',\n",
              " 'carpet',\n",
              " 'carpets',\n",
              " 'cars',\n",
              " 'case',\n",
              " 'catch',\n",
              " 'ceiling',\n",
              " 'celebrate',\n",
              " 'cell',\n",
              " 'center',\n",
              " 'center and',\n",
              " 'central',\n",
              " 'central location',\n",
              " 'central park',\n",
              " 'centrally',\n",
              " 'centrally located',\n",
              " 'centre',\n",
              " 'cereal',\n",
              " 'certain',\n",
              " 'certainly',\n",
              " 'chain',\n",
              " 'chair',\n",
              " 'chairs',\n",
              " 'champagne',\n",
              " 'chance',\n",
              " 'change',\n",
              " 'changed',\n",
              " 'channels',\n",
              " 'charge',\n",
              " 'charge for',\n",
              " 'charged',\n",
              " 'charges',\n",
              " 'charlotte',\n",
              " 'charm',\n",
              " 'charming',\n",
              " 'cheap',\n",
              " 'cheaper',\n",
              " 'check',\n",
              " 'check in',\n",
              " 'check in and',\n",
              " 'check in was',\n",
              " 'check out',\n",
              " 'check out the',\n",
              " 'checked',\n",
              " 'checked in',\n",
              " 'checked out',\n",
              " 'checking',\n",
              " 'checking in',\n",
              " 'checking out',\n",
              " 'checkout',\n",
              " 'cheese',\n",
              " 'chicago',\n",
              " 'child',\n",
              " 'children',\n",
              " 'chinatown',\n",
              " 'chocolate',\n",
              " 'choice',\n",
              " 'choice for',\n",
              " 'choice of',\n",
              " 'choices',\n",
              " 'choose',\n",
              " 'chose',\n",
              " 'chose the',\n",
              " 'chose this',\n",
              " 'christmas',\n",
              " 'circle',\n",
              " 'city',\n",
              " 'city and',\n",
              " 'city the',\n",
              " 'class',\n",
              " 'clean',\n",
              " 'clean and',\n",
              " 'clean and comfortable',\n",
              " 'clean and the',\n",
              " 'clean and well',\n",
              " 'clean but',\n",
              " 'clean comfortable',\n",
              " 'clean room',\n",
              " 'clean rooms',\n",
              " 'clean the',\n",
              " 'clean with',\n",
              " 'cleaned',\n",
              " 'cleaning',\n",
              " 'cleanliness',\n",
              " 'clear',\n",
              " 'clearly',\n",
              " 'clerk',\n",
              " 'clock',\n",
              " 'close',\n",
              " 'close by',\n",
              " 'close to',\n",
              " 'close to everything',\n",
              " 'close to the',\n",
              " 'closed',\n",
              " 'closer',\n",
              " 'closer to',\n",
              " 'closet',\n",
              " 'clothes',\n",
              " 'club',\n",
              " 'cocktail',\n",
              " 'coffee',\n",
              " 'coffee and',\n",
              " 'coffee in',\n",
              " 'coffee in the',\n",
              " 'coffee maker',\n",
              " 'cold',\n",
              " 'columbus',\n",
              " 'com',\n",
              " 'come',\n",
              " 'come back',\n",
              " 'come to',\n",
              " 'comes',\n",
              " 'comfort',\n",
              " 'comfortable',\n",
              " 'comfortable and',\n",
              " 'comfortable and the',\n",
              " 'comfortable bed',\n",
              " 'comfortable beds',\n",
              " 'comfortable the',\n",
              " 'comfortable we',\n",
              " 'comfortable with',\n",
              " 'comforter',\n",
              " 'comfy',\n",
              " 'coming',\n",
              " 'coming back',\n",
              " 'comment',\n",
              " 'comments',\n",
              " 'common',\n",
              " 'company',\n",
              " 'compared',\n",
              " 'compared to',\n",
              " 'complain',\n",
              " 'complained',\n",
              " 'complaint',\n",
              " 'complaint was',\n",
              " 'complaints',\n",
              " 'complete',\n",
              " 'completely',\n",
              " 'complimentary',\n",
              " 'complimentary breakfast',\n",
              " 'computer',\n",
              " 'computers',\n",
              " 'con',\n",
              " 'concerned',\n",
              " 'concierge',\n",
              " 'concierge was',\n",
              " 'condition',\n",
              " 'conditioner',\n",
              " 'conditioning',\n",
              " 'conference',\n",
              " 'connected',\n",
              " 'connection',\n",
              " 'cons',\n",
              " 'consider',\n",
              " 'considering',\n",
              " 'considering the',\n",
              " 'construction',\n",
              " 'contact',\n",
              " 'continental',\n",
              " 'continental breakfast',\n",
              " 'control',\n",
              " 'convenience',\n",
              " 'convenient',\n",
              " 'convenient location',\n",
              " 'convenient to',\n",
              " 'conveniently',\n",
              " 'conveniently located',\n",
              " 'convention',\n",
              " 'convention center',\n",
              " 'conversation',\n",
              " 'cookies',\n",
              " 'cool',\n",
              " 'corner',\n",
              " 'corner of',\n",
              " 'corner room',\n",
              " 'corporate',\n",
              " 'cost',\n",
              " 'cost of',\n",
              " 'costs',\n",
              " 'couch',\n",
              " 'could',\n",
              " 'could be',\n",
              " 'could do',\n",
              " 'could get',\n",
              " 'could have',\n",
              " 'could have been',\n",
              " 'could hear',\n",
              " 'could not',\n",
              " 'could not be',\n",
              " 'could not get',\n",
              " 'could not have',\n",
              " 'could see',\n",
              " 'could use',\n",
              " 'counter',\n",
              " 'country',\n",
              " 'couple',\n",
              " 'couple of',\n",
              " 'couple of blocks',\n",
              " 'course',\n",
              " 'courteous',\n",
              " 'courteous and',\n",
              " 'courtyard',\n",
              " 'cover',\n",
              " 'covered',\n",
              " 'cozy',\n",
              " 'cramped',\n",
              " 'crazy',\n",
              " 'credit',\n",
              " 'credit card',\n",
              " 'crowd',\n",
              " 'crowded',\n",
              " 'crowne',\n",
              " 'crowne plaza',\n",
              " 'cruise',\n",
              " 'cup',\n",
              " 'curtain',\n",
              " 'curtains',\n",
              " 'customer',\n",
              " 'customer service',\n",
              " 'customers',\n",
              " 'cute',\n",
              " 'daily',\n",
              " 'dallas',\n",
              " 'dark',\n",
              " 'dark and',\n",
              " 'date',\n",
              " 'dated',\n",
              " 'daughter',\n",
              " 'daughter and',\n",
              " 'day',\n",
              " 'day and',\n",
              " 'day but',\n",
              " 'day for',\n",
              " 'day of',\n",
              " 'day the',\n",
              " 'day to',\n",
              " 'day we',\n",
              " 'days',\n",
              " 'days and',\n",
              " 'days in',\n",
              " 'dc',\n",
              " 'deal',\n",
              " 'deal with',\n",
              " 'december',\n",
              " 'decent',\n",
              " 'decided',\n",
              " 'decided to',\n",
              " 'decor',\n",
              " 'decor is',\n",
              " 'decor was',\n",
              " 'decorated',\n",
              " 'decorated and',\n",
              " 'deep',\n",
              " 'definately',\n",
              " 'definitely',\n",
              " ...]"
            ]
          },
          "metadata": {
            "tags": []
          },
          "execution_count": 66
        }
      ]
    },
    {
      "cell_type": "markdown",
      "metadata": {
        "id": "Sm7Rpi5GBGdS",
        "colab_type": "text"
      },
      "source": [
        "**Find Most +ve and -ve words form reviews**"
      ]
    },
    {
      "cell_type": "code",
      "metadata": {
        "id": "JR3ZGfBlA_0G",
        "colab_type": "code",
        "colab": {}
      },
      "source": [
        "### Print most +ve (Real) words \n",
        "list_positive=sorted(zip(PAC_model.coef_[0], feature_names), reverse=True)[:50]"
      ],
      "execution_count": 67,
      "outputs": []
    },
    {
      "cell_type": "code",
      "metadata": {
        "id": "mD3odmuBqV_v",
        "colab_type": "code",
        "colab": {}
      },
      "source": [
        "# # extract only the word and not the similarity score\n",
        "words_positive = list(map(lambda x: x[1], list_positive))"
      ],
      "execution_count": null,
      "outputs": []
    },
    {
      "cell_type": "code",
      "metadata": {
        "id": "_anDE_bjqxlw",
        "colab_type": "code",
        "colab": {
          "base_uri": "https://localhost:8080/",
          "height": 874
        },
        "outputId": "e8061cf1-7b81-49ab-c539-c906d2d521b0"
      },
      "source": [
        "words_positive"
      ],
      "execution_count": null,
      "outputs": [
        {
          "output_type": "execute_result",
          "data": {
            "text/plain": [
              "['definitely stay',\n",
              " 'hotel itself',\n",
              " 'were on',\n",
              " 'went out of',\n",
              " 'forward',\n",
              " 'will be back',\n",
              " 'gem',\n",
              " 'there are no',\n",
              " 'great',\n",
              " 'will stay here',\n",
              " 'beautifully',\n",
              " 'only thing',\n",
              " 'crowne plaza',\n",
              " 'easy walking',\n",
              " 'perfect',\n",
              " 'is close',\n",
              " 'pleasantly surprised',\n",
              " 'immaculate',\n",
              " 'right across',\n",
              " 'above and beyond',\n",
              " 'the next day',\n",
              " 'elegant',\n",
              " 'as well as',\n",
              " 'loved',\n",
              " 'not have any',\n",
              " 'but there are',\n",
              " 'very close',\n",
              " 'only negative',\n",
              " 'terrific',\n",
              " 'enjoyable',\n",
              " 'not have to',\n",
              " 'in great',\n",
              " 'location of',\n",
              " 'pleased',\n",
              " 'would definately',\n",
              " 'outstanding',\n",
              " 'very nice',\n",
              " 'spotless',\n",
              " 'spacious',\n",
              " 'in my opinion',\n",
              " 'excellent',\n",
              " 'not need',\n",
              " 'come back',\n",
              " 'no complaints',\n",
              " 'that did not',\n",
              " 'comfortable we',\n",
              " 'of times',\n",
              " 'amazing',\n",
              " 'the future',\n",
              " 'thank you']"
            ]
          },
          "metadata": {
            "tags": []
          },
          "execution_count": 121
        }
      ]
    },
    {
      "cell_type": "markdown",
      "metadata": {
        "id": "UMqUTEjpspnZ",
        "colab_type": "text"
      },
      "source": [
        "**Plot +Ve & -Ve words Using WordClud**"
      ]
    },
    {
      "cell_type": "code",
      "metadata": {
        "id": "e909GiAQnhv5",
        "colab_type": "code",
        "colab": {
          "base_uri": "https://localhost:8080/",
          "height": 463
        },
        "outputId": "bac7c671-8364-418d-9983-13d48f55ac04"
      },
      "source": [
        "#Getting sense of loud words in spam \n",
        "from wordcloud import WordCloud\n",
        "spam_cloud = WordCloud(width=500,height=400,background_color='white',max_words=50).generate(' '.join(words_positive))\n",
        "plt.figure(figsize=(8,6),facecolor='r')\n",
        "plt.imshow(spam_cloud)\n",
        "plt.axis('off')\n",
        "plt.tight_layout(pad=0)\n",
        "plt.show()"
      ],
      "execution_count": null,
      "outputs": [
        {
          "output_type": "display_data",
          "data": {
            "image/png": "[encoded data removed]",
            "text/plain": [
              "<Figure size 576x432 with 1 Axes>"
            ]
          },
          "metadata": {
            "tags": []
          }
        }
      ]
    },
    {
      "cell_type": "code",
      "metadata": {
        "id": "JsuqZB54Bghy",
        "colab_type": "code",
        "colab": {}
      },
      "source": [
        "### Print most -ve (Fakest) words \n",
        "list_nigative = sorted(zip(PAC_model.coef_[0], feature_names))[:50]"
      ],
      "execution_count": null,
      "outputs": []
    },
    {
      "cell_type": "code",
      "metadata": {
        "id": "WBoKqCnusayc",
        "colab_type": "code",
        "colab": {}
      },
      "source": [
        "# # extract only the word and not the similarity score\n",
        "words_nigative = list(map(lambda x: x[1], list_nigative))"
      ],
      "execution_count": null,
      "outputs": []
    },
    {
      "cell_type": "code",
      "metadata": {
        "id": "CMAjShigsMzk",
        "colab_type": "code",
        "colab": {
          "base_uri": "https://localhost:8080/",
          "height": 463
        },
        "outputId": "4bf295ea-ab6f-45a0-b73a-ee95e3bdcbe2"
      },
      "source": [
        "spam_cloud = WordCloud(width=500,height=400,background_color='white',max_words=50).generate(' '.join(words_nigative))\n",
        "plt.figure(figsize=(8,6),facecolor='r')\n",
        "plt.imshow(spam_cloud)\n",
        "plt.axis('off')\n",
        "plt.tight_layout(pad=0)\n",
        "plt.show()"
      ],
      "execution_count": null,
      "outputs": [
        {
          "output_type": "display_data",
          "data": {
            "image/png": "[encoded data removed]",
            "text/plain": [
              "<Figure size 576x432 with 1 Axes>"
            ]
          },
          "metadata": {
            "tags": []
          }
        }
      ]
    },
    {
      "cell_type": "markdown",
      "metadata": {
        "id": "ciYY4CfkpEM8",
        "colab_type": "text"
      },
      "source": [
        "**Create Submition file**"
      ]
    },
    {
      "cell_type": "code",
      "metadata": {
        "id": "nftcePLK_HPs",
        "colab_type": "code",
        "colab": {}
      },
      "source": [
        "y_pred_val=XGB_model.predict(X_test_val)"
      ],
      "execution_count": 75,
      "outputs": []
    },
    {
      "cell_type": "code",
      "metadata": {
        "id": "QbqKBbcCCZ9q",
        "colab_type": "code",
        "colab": {}
      },
      "source": [
        "my_submission = pd.DataFrame({'User_ID': data_test.User_ID, 'predictions':y_pred_val})\n",
        "my_submission.to_csv('NLP_Project_1st_Submission_XGB.csv', index=False)"
      ],
      "execution_count": 76,
      "outputs": []
    },
    {
      "cell_type": "code",
      "metadata": {
        "id": "mQCAT3LKo-Ym",
        "colab_type": "code",
        "colab": {}
      },
      "source": [
        ""
      ],
      "execution_count": null,
      "outputs": []
    }
  ]
}